{
 "cells": [
  {
   "cell_type": "markdown",
   "metadata": {
    "cell_id": "6484560ed8db41328f63d749515c045e",
    "deepnote_cell_type": "text-cell-h1",
    "formattedRanges": [],
    "is_collapsed": false,
    "tags": []
   },
   "source": [
    "# 4 Network Analysis over time"
   ]
  },
  {
   "cell_type": "markdown",
   "metadata": {
    "cell_id": "eab1e141bfac4815b321ecd8254db704",
    "deepnote_cell_type": "markdown",
    "tags": []
   },
   "source": [
    "There will be several aspects of the network analyzed over time.\n",
    "1. General node and link development over the seasons of Grey's Anatomy\n",
    "2. Degree and centrality development for the top characters\n",
    "3. Animated network development over the seasons"
   ]
  },
  {
   "cell_type": "code",
   "execution_count": 1,
   "metadata": {
    "cell_id": "0514be24a16a427ea80935a58586f343",
    "deepnote_cell_type": "code",
    "deepnote_to_be_reexecuted": false,
    "execution_millis": 9889,
    "execution_start": 1670945491844,
    "source_hash": "f0d4f56a",
    "tags": []
   },
   "outputs": [
    {
     "name": "stderr",
     "output_type": "stream",
     "text": [
      "WARNING: Ignoring invalid distribution -illow (c:\\users\\lisa\\appdata\\roaming\\python\\python39\\site-packages)\n",
      "WARNING: Ignoring invalid distribution -atplotlib (c:\\users\\lisa\\anaconda3\\lib\\site-packages)\n",
      "WARNING: Ignoring invalid distribution -andas (c:\\users\\lisa\\anaconda3\\lib\\site-packages)\n",
      "WARNING: Ignoring invalid distribution -illow (c:\\users\\lisa\\appdata\\roaming\\python\\python39\\site-packages)\n",
      "WARNING: Ignoring invalid distribution -atplotlib (c:\\users\\lisa\\anaconda3\\lib\\site-packages)\n",
      "WARNING: Ignoring invalid distribution -andas (c:\\users\\lisa\\anaconda3\\lib\\site-packages)\n",
      "WARNING: Ignoring invalid distribution -illow (c:\\users\\lisa\\appdata\\roaming\\python\\python39\\site-packages)\n",
      "WARNING: Ignoring invalid distribution -atplotlib (c:\\users\\lisa\\anaconda3\\lib\\site-packages)\n",
      "WARNING: Ignoring invalid distribution -andas (c:\\users\\lisa\\anaconda3\\lib\\site-packages)\n",
      "WARNING: Ignoring invalid distribution -illow (c:\\users\\lisa\\appdata\\roaming\\python\\python39\\site-packages)\n",
      "WARNING: Ignoring invalid distribution -atplotlib (c:\\users\\lisa\\anaconda3\\lib\\site-packages)\n",
      "WARNING: Ignoring invalid distribution -andas (c:\\users\\lisa\\anaconda3\\lib\\site-packages)\n",
      "WARNING: Ignoring invalid distribution -illow (c:\\users\\lisa\\appdata\\roaming\\python\\python39\\site-packages)\n",
      "WARNING: Ignoring invalid distribution -atplotlib (c:\\users\\lisa\\anaconda3\\lib\\site-packages)\n",
      "WARNING: Ignoring invalid distribution -andas (c:\\users\\lisa\\anaconda3\\lib\\site-packages)\n",
      "WARNING: Ignoring invalid distribution -illow (c:\\users\\lisa\\appdata\\roaming\\python\\python39\\site-packages)\n",
      "WARNING: Ignoring invalid distribution -atplotlib (c:\\users\\lisa\\anaconda3\\lib\\site-packages)\n",
      "WARNING: Ignoring invalid distribution -andas (c:\\users\\lisa\\anaconda3\\lib\\site-packages)\n"
     ]
    },
    {
     "name": "stdout",
     "output_type": "stream",
     "text": [
      "Requirement already satisfied: networkx in c:\\users\\lisa\\anaconda3\\lib\\site-packages (2.6.3)\n"
     ]
    }
   ],
   "source": [
    "!pip install networkx\n",
    "import networkx as nx\n",
    "import pandas as pd\n",
    "import json\n",
    "import urllib\n",
    "from sklearn import preprocessing\n",
    "import re\n",
    "import requests\n",
    "import matplotlib.pyplot as plt\n",
    "from sklearn import preprocessing\n",
    "import plotly.express as px\n",
    "from re import match\n",
    "%matplotlib inline"
   ]
  },
  {
   "cell_type": "markdown",
   "metadata": {
    "cell_id": "be39e04e123b42388e096e3e2164ae2d",
    "deepnote_cell_type": "text-cell-h2",
    "formattedRanges": [],
    "is_collapsed": false,
    "tags": []
   },
   "source": [
    "## 4.1 General node and link development"
   ]
  },
  {
   "cell_type": "markdown",
   "metadata": {
    "cell_id": "307167d0-dbe5-4772-b50c-30bc80189bb3",
    "deepnote_cell_type": "text-cell-p",
    "formattedRanges": [],
    "is_collapsed": false,
    "tags": []
   },
   "source": [
    "To analyze the network in further detail, networks for every season will be created to see the overall development of the network through the seasons. With the time component, the focus will be set on one show, the main show Grey's Anatomy as it contains most data and the community detection also revealed a good partition for separating the network by the main shows."
   ]
  },
  {
   "cell_type": "code",
   "execution_count": 2,
   "metadata": {
    "cell_id": "98d245829fba493faa9ff2e173ef2d93",
    "deepnote_cell_type": "code",
    "deepnote_to_be_reexecuted": false,
    "execution_millis": 129,
    "execution_start": 1670945501733,
    "source_hash": "bf775042",
    "tags": []
   },
   "outputs": [],
   "source": [
    "#import the characters data and filter it to Grey's Anatomy for one focus show\n",
    "df = pd.read_csv(\"data/characters.csv\")\n",
    "df_ga = df[df.main_universe == \"Grey's Anatomy\"].reset_index(drop=True)"
   ]
  },
  {
   "cell_type": "code",
   "execution_count": 3,
   "metadata": {
    "cell_id": "0c1ccbd5db144ced852c6793346b1df0",
    "deepnote_cell_type": "code",
    "deepnote_to_be_reexecuted": false,
    "execution_millis": 9382,
    "execution_start": 1670945501867,
    "source_hash": "173c14ea",
    "tags": []
   },
   "outputs": [
    {
     "ename": "FileNotFoundError",
     "evalue": "[Errno 2] No such file or directory: \"data/character wikipages/Aaron_(Let's_Talk_About_Sex).json\"",
     "output_type": "error",
     "traceback": [
      "\u001b[1;31m---------------------------------------------------------------------------\u001b[0m",
      "\u001b[1;31mFileNotFoundError\u001b[0m                         Traceback (most recent call last)",
      "\u001b[1;32m~\\AppData\\Local\\Temp/ipykernel_34620/423562184.py\u001b[0m in \u001b[0;36m<module>\u001b[1;34m\u001b[0m\n\u001b[0;32m      9\u001b[0m     \u001b[0mpageid\u001b[0m \u001b[1;33m=\u001b[0m \u001b[0mstr\u001b[0m\u001b[1;33m(\u001b[0m\u001b[0mrow\u001b[0m\u001b[1;33m[\u001b[0m\u001b[1;34m'pageid'\u001b[0m\u001b[1;33m]\u001b[0m\u001b[1;33m)\u001b[0m\u001b[1;33m\u001b[0m\u001b[1;33m\u001b[0m\u001b[0m\n\u001b[0;32m     10\u001b[0m \u001b[1;33m\u001b[0m\u001b[0m\n\u001b[1;32m---> 11\u001b[1;33m     \u001b[0mf\u001b[0m \u001b[1;33m=\u001b[0m \u001b[0mopen\u001b[0m\u001b[1;33m(\u001b[0m\u001b[1;34m\"data/character wikipages/\"\u001b[0m \u001b[1;33m+\u001b[0m \u001b[0mtitle\u001b[0m \u001b[1;33m+\u001b[0m \u001b[1;34m\".json\"\u001b[0m\u001b[1;33m)\u001b[0m\u001b[1;33m\u001b[0m\u001b[1;33m\u001b[0m\u001b[0m\n\u001b[0m\u001b[0;32m     12\u001b[0m     \u001b[0mdata\u001b[0m \u001b[1;33m=\u001b[0m \u001b[0mjson\u001b[0m\u001b[1;33m.\u001b[0m\u001b[0mload\u001b[0m\u001b[1;33m(\u001b[0m\u001b[0mf\u001b[0m\u001b[1;33m)\u001b[0m\u001b[1;33m\u001b[0m\u001b[1;33m\u001b[0m\u001b[0m\n\u001b[0;32m     13\u001b[0m     \u001b[0mtext\u001b[0m \u001b[1;33m=\u001b[0m \u001b[0mjson\u001b[0m\u001b[1;33m.\u001b[0m\u001b[0mdumps\u001b[0m\u001b[1;33m(\u001b[0m\u001b[0mdata\u001b[0m\u001b[1;33m)\u001b[0m\u001b[1;33m\u001b[0m\u001b[1;33m\u001b[0m\u001b[0m\n",
      "\u001b[1;31mFileNotFoundError\u001b[0m: [Errno 2] No such file or directory: \"data/character wikipages/Aaron_(Let's_Talk_About_Sex).json\""
     ]
    }
   ],
   "source": [
    "# get the links of every character to other characters for the network setup\n",
    "df_ga['outlinks_clean'] = \"\"\n",
    "df_ga['outlinks_clean'] = df_ga['outlinks_clean'].astype('object')\n",
    "df_ga['character_links'] = \"\"\n",
    "df_ga['character_links']  = df_ga['character_links'] .astype('object')\n",
    "\n",
    "for index, row in df_ga.iterrows():\n",
    "    title = row['file']\n",
    "    pageid = str(row['pageid'])\n",
    "    \n",
    "    f = open(\"data/character wikipages/\" + title + \".json\")\n",
    "    data = json.load(f)\n",
    "    text = json.dumps(data)\n",
    "    \n",
    "    \n",
    "    res = re.findall(r\"\\[\\[.*?\\]\\]\", text)\n",
    "    res_clean = []\n",
    "    for element in res:\n",
    "        element = element.strip(\"[[\").strip(\"]]\")\n",
    "        res_clean.append(element)\n",
    "    \n",
    "    df_ga.at[index, 'outlinks_clean'] = res_clean\n",
    "        \n",
    "    links_clean = []\n",
    "    for element in res_clean:\n",
    "        element = element.split(\"|\")[0]\n",
    "        if element in df.title.tolist():\n",
    "            links_clean.append(element)\n",
    "    \n",
    "    single_links = list(set(links_clean))\n",
    "        \n",
    "    df_ga.at[index, 'character_links'] = single_links\n"
   ]
  },
  {
   "cell_type": "code",
   "execution_count": null,
   "metadata": {
    "cell_id": "dd6da7d361fb48cb9cb26be895efe205",
    "deepnote_cell_type": "code",
    "deepnote_to_be_reexecuted": false,
    "execution_millis": 611,
    "execution_start": 1670945521923,
    "source_hash": "f2798157",
    "tags": []
   },
   "outputs": [],
   "source": [
    "# define the functions to setup the network with the characters and the links between the characters\n",
    "def set_up_network(net, character):\n",
    "    # add nodes for the character with the attribute which universe \n",
    "    net.add_node(character)\n",
    "    \n",
    "def add_links_to_network(net, character, links_clean):\n",
    "    for link in links_clean:\n",
    "        if link in df_ga.title.to_list():\n",
    "            net.add_edge(character, link)\n",
    "\n",
    "\n",
    "# setup the character network\n",
    "ga_net = nx.DiGraph()\n",
    "for index, row in df_ga.iterrows():\n",
    "    name = row['title']\n",
    "    links_clean = row['character_links']\n",
    "    \n",
    "    set_up_network(ga_net, name)\n",
    "    add_links_to_network(ga_net, name, links_clean)"
   ]
  },
  {
   "cell_type": "code",
   "execution_count": null,
   "metadata": {
    "cell_id": "da4c348a98294e84b9aa1ebf8aa756c5",
    "deepnote_cell_type": "code",
    "deepnote_to_be_reexecuted": false,
    "execution_millis": 25782,
    "execution_start": 1670945527739,
    "source_hash": "9b11db5f",
    "tags": []
   },
   "outputs": [],
   "source": [
    "# get the positions and degree of the nodes in the network and save them in a scatter dataframe \n",
    "\n",
    "pos = nx.spring_layout(ga_net)\n",
    "\n",
    "df_scatter = pd.DataFrame()\n",
    "df_scatter['title'] = list(ga_net.nodes)\n",
    "df_scatter['x'] = [x for x, y in pos.values()]\n",
    "df_scatter['y'] = [y for x, y in pos.values()]\n",
    "\n",
    "degrees = [degree[1] for degree in ga_net.degree]\n",
    "df_scatter['degree'] = degrees"
   ]
  },
  {
   "cell_type": "code",
   "execution_count": null,
   "metadata": {
    "cell_id": "bac091eea6284dbf95ceaf89b81c8088",
    "deepnote_cell_type": "code",
    "deepnote_to_be_reexecuted": false,
    "execution_millis": 7,
    "execution_start": 1670945553525,
    "source_hash": "e0b5b3fb",
    "tags": []
   },
   "outputs": [],
   "source": [
    "# merge the characters dataframe to the scatter data with the positional information\n",
    "\n",
    "df_scatter = pd.merge(df_scatter, df_ga.drop(columns=['pp_occurences', 'Unnamed: 0',\n",
    "'s19_occurences', 'main_universe', 'alias_list', 'description', 'universe_encoded']),on='title')"
   ]
  },
  {
   "cell_type": "code",
   "execution_count": null,
   "metadata": {
    "cell_id": "c4d1770805ac44bfb17e5e145847ef14",
    "deepnote_cell_type": "code",
    "deepnote_to_be_reexecuted": false,
    "execution_millis": 8,
    "execution_start": 1670945553538,
    "source_hash": "1e5895dd",
    "tags": []
   },
   "outputs": [],
   "source": [
    "# filter to the main characters with at least a degree of 10 to reduce the network \n",
    "# for the over time analysis \n",
    "\n",
    "df_scatter_main = df_scatter[df_scatter.degree > 10]"
   ]
  },
  {
   "cell_type": "code",
   "execution_count": null,
   "metadata": {
    "cell_id": "dbf11bd1c58d4ef2ab24ff346dbe5595",
    "deepnote_cell_type": "code",
    "deepnote_to_be_reexecuted": false,
    "execution_millis": 233,
    "execution_start": 1670945553553,
    "source_hash": "a324b8cb",
    "tags": []
   },
   "outputs": [],
   "source": [
    "# create a new dataframe with temporal information for each season and each character\n",
    "\n",
    "new_temp = []\n",
    "new_season = []\n",
    "for index, row in df_scatter_main.iterrows():\n",
    "    title = row['file']\n",
    "    pageid = str(row['pageid'])\n",
    "    \n",
    "    f = open(\"data/character wikipages/\" + title + \".json\")\n",
    "    data = json.load(f)\n",
    "    text = json.dumps(data)\n",
    "    \n",
    "    \n",
    "    res = re.findall(r\"\\[\\[.*?\\]\\]\", text)\n",
    "    res_clean = []\n",
    "    for element in res:\n",
    "        element = element.strip(\"[[\").strip(\"]]\")\n",
    "        res_clean.append(element)\n",
    "\n",
    "    seasons = re.findall(\"(?:\\'Category:GA S)(\\d+)(?: Characters)\", str(res_clean))\n",
    "    \n",
    "    for season in seasons:\n",
    "        new_temp.append(row)\n",
    "        new_season.append(season)\n",
    "\n",
    "df_time = pd.DataFrame(new_temp)\n",
    "df_time['season'] = new_season\n",
    "df_time['season'] = df_time['season'].astype('int')\n",
    "df_time = df_time.sort_values(by='season')"
   ]
  },
  {
   "cell_type": "code",
   "execution_count": null,
   "metadata": {
    "cell_id": "8fd44af8d9a1475784612df41cf82672",
    "deepnote_cell_type": "code",
    "deepnote_to_be_reexecuted": false,
    "execution_millis": 786,
    "execution_start": 1670945553792,
    "source_hash": "591568f8",
    "tags": []
   },
   "outputs": [],
   "source": [
    "# calculate the development of nodes and edges by getting the numbers for each season\n",
    "number_of_nodes = []\n",
    "number_of_edges = []\n",
    "for i in range(1, 20):\n",
    "    df_help = df_time[df_time.season == i]\n",
    "    df_help2 = df_time[df_time.season <= i]\n",
    "    ga_net_try = nx.DiGraph()\n",
    "    for index, row in df_help.iterrows():\n",
    "        name = row['title']\n",
    "        links = row['character_links']\n",
    "        links_clean = []\n",
    "        for link in links:\n",
    "            # only include links to other characters if they have already appeared in the show\n",
    "            if link in df_help2.title.to_list():\n",
    "                links_clean.append(link)\n",
    "    \n",
    "        set_up_network(ga_net_try, name)\n",
    "        add_links_to_network(ga_net_try, name, links_clean)\n",
    "    \n",
    "    number_of_nodes.append(ga_net_try.number_of_nodes())\n",
    "    number_of_edges.append(ga_net_try.number_of_edges())\n",
    "    "
   ]
  },
  {
   "cell_type": "code",
   "execution_count": null,
   "metadata": {
    "cell_id": "ed73628bf3f14428a7884e0132250400",
    "deepnote_cell_type": "code",
    "deepnote_to_be_reexecuted": false,
    "execution_millis": 424,
    "execution_start": 1670945554586,
    "source_hash": "aae83b3b",
    "tags": []
   },
   "outputs": [],
   "source": [
    "# plot the development of nodes and edges\n",
    "plt.title(\"Network Development over the 19 seasons of Grey's Anatomy\")\n",
    "plt.xlabel(\"Season\")\n",
    "plt.ylabel(\"Number of nodes / edges\")\n",
    "plt.xticks(range(1, 19))\n",
    "plt.plot(number_of_nodes, label='Nodes', color='blue')\n",
    "plt.plot(number_of_edges, label='Edges', color='purple')\n",
    "plt.legend()\n",
    "plt.grid()\n",
    "plt.show()"
   ]
  },
  {
   "cell_type": "markdown",
   "metadata": {
    "cell_id": "a89b9db9e87b41a0a286db7565f08f91",
    "deepnote_cell_type": "text-cell-h2",
    "formattedRanges": [],
    "is_collapsed": false,
    "tags": []
   },
   "source": [
    "## Main findings of general node and link development"
   ]
  },
  {
   "cell_type": "markdown",
   "metadata": {
    "cell_id": "242a09f4d61a41c893acb376542e60bb",
    "deepnote_cell_type": "markdown",
    "tags": []
   },
   "source": [
    "The node and link development of Grey's Anatomy in the plot above shows that\n",
    "* The number of nodes is steadily increasing throughout the shows with the exception of the last two seasons\n",
    "* The number of edges, so connections betwenn the characters, also increases with a stronger up and down compared the the node development with the same exception in the last two seasons\n",
    "* The decrease of the nodes and edges could indicate the ending of the show after 19 seasons with Ellen Pompeo as Meredith Grey leaving the show.\n",
    "\n"
   ]
  },
  {
   "cell_type": "markdown",
   "metadata": {
    "cell_id": "83c2805e37114addab7bda2c0d086ab7",
    "deepnote_cell_type": "text-cell-h2",
    "formattedRanges": [],
    "is_collapsed": false,
    "tags": []
   },
   "source": [
    "## 4.2 Degree and centrality development for the top characters"
   ]
  },
  {
   "cell_type": "markdown",
   "metadata": {
    "cell_id": "3022bf5e-8b75-4941-9a5e-80fe465f53aa",
    "deepnote_cell_type": "text-cell-p",
    "formattedRanges": [],
    "is_collapsed": false,
    "tags": []
   },
   "source": [
    "The analyze the characters further, we will take a look at their degree and degree centrality development through the seasons to also see if Meredith Grey is really the main character throughout the show. This analysis will be focused on the top characters of Grey's Anatomy that are highly connected and the degree threshold was set at 100 with trial and error to have enough characters to analyze but still have a clear focus."
   ]
  },
  {
   "cell_type": "code",
   "execution_count": null,
   "metadata": {
    "cell_id": "e6ab3505221d46c5ad32eb0a4878bb50",
    "deepnote_cell_type": "code",
    "deepnote_to_be_reexecuted": false,
    "execution_millis": 49,
    "execution_start": 1670945555029,
    "source_hash": "15dd275a",
    "tags": []
   },
   "outputs": [],
   "source": [
    "# define the top characters\n",
    "\n",
    "top_characters = set([row['title'] for index, row in df_time.iterrows() if row['degree'] > 100])\n",
    "\n",
    "with open('data/top_characters.json', 'w', encoding='utf-8') as file:\n",
    "    json.dump(list(top_characters), file, ensure_ascii=False, indent=4)"
   ]
  },
  {
   "cell_type": "code",
   "execution_count": null,
   "metadata": {
    "cell_id": "06eb69bc136344b9a3fafd4b5e012161",
    "deepnote_cell_type": "code",
    "deepnote_to_be_reexecuted": false,
    "execution_millis": 2243,
    "execution_start": 1670945555104,
    "source_hash": "60883720",
    "tags": []
   },
   "outputs": [],
   "source": [
    "# calculate the position, degree and degree centrality for every character per season\n",
    "df_per_season = pd.DataFrame() \n",
    "old_data = []\n",
    "for i in range(1, 20):\n",
    "    df_help = df_time[df_time.season == i]\n",
    "    df_help2 = df_time[df_time.season <= i]\n",
    "    ga_net_try = nx.DiGraph()\n",
    "    for index, row in df_help.iterrows():\n",
    "        name = row['title']\n",
    "        links = row['character_links']\n",
    "        links_clean = []\n",
    "        for link in links:\n",
    "            if link in df_help2.title.to_list():\n",
    "                links_clean.append(link)\n",
    "    \n",
    "        set_up_network(ga_net_try, name)\n",
    "        add_links_to_network(ga_net_try, name, links_clean)\n",
    "\n",
    "    pos = nx.spring_layout(ga_net_try)\n",
    "    degrees = ga_net_try.degree\n",
    "    cent_bet = nx.betweenness_centrality(ga_net_try)\n",
    "    for index, row in df_help.iterrows():\n",
    "        name = row['title']\n",
    "        new_x = 'x_'+str(i)\n",
    "        new_y = 'y_'+str(i)\n",
    "        new_degree = 'degree_'+str(i)\n",
    "        new_cent = 'cent_'+str(i)\n",
    "\n",
    "        old_data.append(row)\n",
    "        df_per_season.at[index, new_x] = pos[name][0]\n",
    "        df_per_season.at[index, new_y] = pos[name][1]\n",
    "        df_per_season.at[index, new_degree] = degrees[name]\n",
    "        df_per_season.at[index, new_cent] = cent_bet[name]\n",
    "\n",
    "df_per_season = pd.merge(df_time, df_per_season, left_index=True, right_index=True)"
   ]
  },
  {
   "cell_type": "code",
   "execution_count": null,
   "metadata": {
    "cell_id": "65e0e2000fbf40499871bc30afdc18dd",
    "deepnote_cell_type": "code",
    "deepnote_to_be_reexecuted": false,
    "execution_millis": 1465,
    "execution_start": 1670945557360,
    "source_hash": "9e9243b6",
    "tags": []
   },
   "outputs": [],
   "source": [
    "# plot the degree and degree centralitydevelopment for the top characters\n",
    "plt.figure(figsize=(15,15))\n",
    "plt.subplot(2, 1, 1)\n",
    "plt.title(\"Degree Development of the top characters over the 19 seasons\", fontsize=20)\n",
    "plt.xlabel(\"Season\", fontsize=20)\n",
    "plt.ylabel(\"Degree\", fontsize=20)\n",
    "plt.xticks(range(1, 20),fontsize=20)\n",
    "plt.yticks(fontsize=20)\n",
    "\n",
    "colors = ['black', 'red', 'orange', 'yellow', 'deeppink', 'lime', 'cyan', 'blue', 'darkviolet', 'magenta',\n",
    "        'sienna', 'gold', 'silver', 'navy', 'deepskyblue', 'darkgreen', 'olive', 'lightpink', 'brown', 'green']\n",
    "j = 0\n",
    "\n",
    "for character in sorted(top_characters):\n",
    "    if character in df_per_season.title.to_list():\n",
    "        df_char = df_per_season[df_per_season.title == character]\n",
    "        degrees_char = []\n",
    "        for i in range(1, 20):\n",
    "            new_degree = 'degree_'+str(i)\n",
    "            degrees_char.append(df_char[new_degree].values[0])\n",
    "        \n",
    "        \n",
    "        plt.plot(range(1, 20), degrees_char, label = character, color=colors[j], alpha=0.9)\n",
    "        j += 1\n",
    "\n",
    "plt.legend(loc='center left', bbox_to_anchor=(1, 0.5))\n",
    "plt.grid()\n",
    "\n",
    "\n",
    "plt.subplot(2, 1, 2)\n",
    "plt.title(\"Degree Centrality Development of the top characters over the 19 seasons\", fontsize=20)\n",
    "plt.xlabel(\"Season\", fontsize=20)\n",
    "plt.ylabel(\"Degree centrality\", fontsize=20)\n",
    "plt.xticks(range(1, 20),fontsize=20)\n",
    "plt.yticks(fontsize=20)\n",
    "\n",
    "j = 0\n",
    "for character in sorted(top_characters):\n",
    "    if character in df_per_season.title.to_list():\n",
    "        df_char = df_per_season[df_per_season.title == character]\n",
    "        cent_char = []\n",
    "        for i in range(1, 20):\n",
    "            new_cent  = 'cent_'+str(i)\n",
    "            cent_char.append(df_char[new_cent].values[0])\n",
    "        \n",
    "        \n",
    "        plt.plot(range(1, 20), cent_char, label = character, color=colors[j], alpha=0.9)\n",
    "        j += 1\n",
    "\n",
    "plt.legend(loc='center left', bbox_to_anchor=(1, 0.5))\n",
    "plt.grid()\n",
    "plt.show()"
   ]
  },
  {
   "cell_type": "markdown",
   "metadata": {
    "cell_id": "fe96eeddc51c47e487a36a9c256daa1f",
    "deepnote_cell_type": "text-cell-h2",
    "formattedRanges": [],
    "is_collapsed": false,
    "tags": []
   },
   "source": [
    "## Main findings of the degree and centrality development for the top characters"
   ]
  },
  {
   "cell_type": "markdown",
   "metadata": {
    "cell_id": "62504a99-4e57-4a8d-877b-d615e3c36bc6",
    "deepnote_cell_type": "text-cell-p",
    "formattedRanges": [],
    "is_collapsed": false,
    "tags": []
   },
   "source": [
    "The degree and degree centrality development for the top characters shows that"
   ]
  },
  {
   "cell_type": "markdown",
   "metadata": {
    "cell_id": "20b438b7d185479f86e8cd697989fc0d",
    "deepnote_cell_type": "text-cell-bullet",
    "formattedRanges": [],
    "is_collapsed": false,
    "tags": []
   },
   "source": [
    "- Meredith Grey has the highest degree in all seasons except for season 10 where Cristina Yang's degree is the highest which could be explained by her being Meredith's person and leaving the show in that season"
   ]
  },
  {
   "cell_type": "markdown",
   "metadata": {
    "cell_id": "cc9d0762-ad6f-4253-b4ba-6ac72384a3cc",
    "deepnote_cell_type": "text-cell-bullet",
    "formattedRanges": [],
    "is_collapsed": false,
    "tags": []
   },
   "source": [
    "- Meredith's big love and husband Derek Shepherd as well as Cristina Yang show degree development at a high level after Meredith"
   ]
  },
  {
   "cell_type": "markdown",
   "metadata": {
    "cell_id": "ffc2fc96-3c8c-4a7c-b2f3-06127ed1f48c",
    "deepnote_cell_type": "text-cell-bullet",
    "formattedRanges": [],
    "is_collapsed": false,
    "tags": []
   },
   "source": [
    "- The degree centrality development supports these findings but also reveal that George O'Malley plays an important role in season 3 as his family is highly involved with his dad dying, him getting married and cheating on his wife with his best friend"
   ]
  },
  {
   "cell_type": "markdown",
   "metadata": {
    "cell_id": "f6f1afab5172403b8a4c7ecf5fff4fc3",
    "deepnote_cell_type": "text-cell-h2",
    "formattedRanges": [],
    "is_collapsed": false,
    "tags": []
   },
   "source": [
    "## 4.3 Animated network development"
   ]
  },
  {
   "cell_type": "markdown",
   "metadata": {
    "cell_id": "c418fb51-4610-48ad-ab14-b701f16f63ca",
    "deepnote_cell_type": "text-cell-p",
    "formattedRanges": [],
    "is_collapsed": false,
    "tags": []
   },
   "source": [
    "To get a better overview of the network, we decided to also animate the development for the most central and also the top characters of Grey's Anatomy."
   ]
  },
  {
   "cell_type": "code",
   "execution_count": null,
   "metadata": {
    "cell_id": "94d1b73d55504367a897add266520f4b",
    "deepnote_cell_type": "code",
    "deepnote_to_be_reexecuted": false,
    "execution_millis": 411860920,
    "execution_start": 1670945558558,
    "source_hash": "a601bb85",
    "tags": []
   },
   "outputs": [],
   "source": [
    "# define the color of the node based on the degree to identify the top characters\n",
    "df_time['color_degree'] = ['red' if degree > 100 else 'black' for degree in df_time.degree] "
   ]
  },
  {
   "cell_type": "code",
   "execution_count": null,
   "metadata": {
    "cell_id": "aba4cbfd9c97467e98ba1a4c3722d350",
    "deepnote_cell_type": "code",
    "deepnote_to_be_reexecuted": false,
    "execution_millis": 0,
    "execution_start": 1670945558560,
    "source_hash": "9dbd028b",
    "tags": []
   },
   "outputs": [],
   "source": [
    "# filter the data to the most central characters\n",
    "df_time = df_time[(df_time.x >= -0.1) & (df_time.x <= 0.1) & (df_time.y >= -0.1) & (df_time.y <= 0.1)]"
   ]
  },
  {
   "cell_type": "code",
   "execution_count": null,
   "metadata": {
    "cell_id": "9de03335e3e844eb85e688f3922c3a2b",
    "deepnote_cell_type": "code",
    "deepnote_to_be_reexecuted": false,
    "execution_millis": 1949,
    "execution_start": 1670945558562,
    "source_hash": "3aa5f2a7",
    "tags": []
   },
   "outputs": [],
   "source": [
    "# plot animation of the scatter plot for the Grey's Anatomy network development\n",
    "fig_time = px.scatter(df_time, x=\"x\" , y=\"y\", hover_name=\"title\", text='title', \n",
    "                        color=\"color_degree\", opacity=0.5, size='degree', animation_frame='season',\n",
    "                         color_discrete_sequence=[\"red\", \"black\"])\n",
    "\n",
    "fig_time.layout.update(title_text=\"Development of the Grey's Anatomy Network for the main characters\",\n",
    "                       title_font_size=20, showlegend=False)\n",
    "fig_time.layout.updatemenus[0].buttons[0].args[1][\"frame\"][\"duration\"] = 2000\n",
    "\n",
    "fig_time.update_layout(yaxis_range=[-0.1,0.1])\n",
    "fig_time.update_layout(xaxis_range=[-0.1,0.1])\n",
    "fig_time.show()"
   ]
  },
  {
   "cell_type": "code",
   "execution_count": null,
   "metadata": {
    "cell_id": "096965c4b397455b826b2330a275851c",
    "deepnote_cell_type": "code",
    "deepnote_to_be_reexecuted": false,
    "execution_millis": 1569,
    "execution_start": 1670945560525,
    "source_hash": "67d39a7f",
    "tags": []
   },
   "outputs": [],
   "source": [
    "# create a dataframe with position and degree by seasons\n",
    "df_per_season_new = pd.DataFrame() \n",
    "old_data = []\n",
    "for i in range(1, 20):\n",
    "    df_help = df_time[df_time.season == i]\n",
    "    df_help2 = df_time[df_time.season <= i]\n",
    "    ga_net_try = nx.DiGraph()\n",
    "    for index, row in df_help.iterrows():\n",
    "        name = row['title']\n",
    "        links = row['character_links']\n",
    "        links_clean = []\n",
    "        for link in links:\n",
    "            if link in df_help2.title.to_list():\n",
    "                links_clean.append(link)\n",
    "    \n",
    "        set_up_network(ga_net_try, name)\n",
    "        add_links_to_network(ga_net_try, name, links_clean)\n",
    "\n",
    "    pos = nx.spring_layout(ga_net_try)\n",
    "    degrees = ga_net_try.degree\n",
    "    cent_bet = nx.betweenness_centrality(ga_net_try)\n",
    "    for index, row in df_help.iterrows():\n",
    "        if row['season'] == i:\n",
    "            name = row['title']\n",
    "            old_data.append(row)\n",
    "            df_per_season_new.at[index, 'x_season'] = pos[name][0]\n",
    "            df_per_season_new.at[index, 'y_season'] = pos[name][1]\n",
    "            df_per_season_new.at[index, 'degree_season'] = degrees[name]\n",
    "            df_per_season_new.at[index, 'cent_season'] = cent_bet[name]\n",
    "\n",
    "df_per_season_new = pd.merge(df_time, df_per_season_new, left_index=True, right_index=True)\n",
    "\n",
    "df_per_season_new = df_per_season_new[df_per_season_new.degree>100]"
   ]
  },
  {
   "cell_type": "code",
   "execution_count": null,
   "metadata": {
    "cell_id": "332ee44f103d411a817032464c6305f2",
    "deepnote_cell_type": "code",
    "deepnote_to_be_reexecuted": false,
    "execution_millis": 281,
    "execution_start": 1670945562096,
    "source_hash": "9d488ae2",
    "tags": []
   },
   "outputs": [],
   "source": [
    "# animate the positions and degrees per season\n",
    "fig_time_season = px.scatter(df_per_season_new, x=\"x_season\" , y=\"y_season\", hover_name=\"title\", \n",
    "                             text='title', color=\"color_degree\", opacity=0.5, size='degree_season',\n",
    "                             animation_frame='season', color_discrete_sequence=[\"red\", \"black\"])\n",
    "\n",
    "fig_time_season.layout.update(title_text=\"Development of the Grey's Anatomy Network for the top characters\",\n",
    "                            title_font_size=15, showlegend=False)\n",
    "\n",
    "fig_time_season.layout.updatemenus[0].buttons[0].args[1][\"frame\"][\"duration\"] = 2000\n",
    "\n",
    "fig_time_season.update_layout(autosize=False, width=1100, height=600)\n",
    "fig_time_season.update_layout(xaxis_range=[-0.35,0.35])\n",
    "fig_time_season.update_layout(yaxis_range=[-0.4,0.35])\n",
    "fig_time_season.show()"
   ]
  },
  {
   "cell_type": "markdown",
   "metadata": {
    "cell_id": "2321094b58b54928997f3a07dcbef342",
    "deepnote_cell_type": "text-cell-h2",
    "formattedRanges": [],
    "is_collapsed": false,
    "tags": []
   },
   "source": [
    "## Main findings of the animated network development"
   ]
  },
  {
   "cell_type": "markdown",
   "metadata": {
    "cell_id": "280b362265b24090aa6cb3c2a3a498dd",
    "deepnote_cell_type": "markdown",
    "tags": []
   },
   "source": [
    "The animated network is useful to visualize the development and some interesting findings are the following.\n",
    "* The couples of the show being close for example Meredith Grey and Derek Shepherd, Jackson Avery and April Kepner or Owen Hunt and Teddy Oltman.\n",
    "* With Meredith and Derek being the main couple of the show, they are not as close as expected, Meredith is closer to her stepsister Lexie even though they have a rough start of their relationship getting to know each other as adults after Lexie's mom dies.\n",
    "* However, it is difficult to analyze with many characters and many changes happening.\n",
    "\n"
   ]
  },
  {
   "cell_type": "markdown",
   "metadata": {
    "created_in_deepnote_cell": true,
    "deepnote_cell_type": "markdown",
    "tags": []
   },
   "source": [
    "<a style='text-decoration:none;line-height:16px;display:flex;color:#5B5B62;padding:10px;justify-content:end;' href='https://deepnote.com?utm_source=created-in-deepnote-cell&projectId=6c50234c-0fc5-40eb-b0ef-2d1cda57d893' target=\"_blank\">\n",
    "<img alt='Created in deepnote.com' style='display:inline;max-height:16px;margin:0px;margin-right:7.5px;' src='data:image/svg+xml;base64,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' > </img>\n",
    "Created in <span style='font-weight:600;margin-left:4px;'>Deepnote</span></a>"
   ]
  }
 ],
 "metadata": {
  "deepnote": {},
  "deepnote_execution_queue": [],
  "deepnote_notebook_id": "5bc0290354ee44b48b16b6715d9d211a",
  "deepnote_persisted_session": {
   "createdAt": "2022-12-13T14:48:37.922Z"
  },
  "kernelspec": {
   "display_name": "Python 3 (ipykernel)",
   "language": "python",
   "name": "python3"
  },
  "language_info": {
   "codemirror_mode": {
    "name": "ipython",
    "version": 3
   },
   "file_extension": ".py",
   "mimetype": "text/x-python",
   "name": "python",
   "nbconvert_exporter": "python",
   "pygments_lexer": "ipython3",
   "version": "3.9.7"
  },
  "toc": {
   "base_numbering": 1,
   "nav_menu": {},
   "number_sections": true,
   "sideBar": true,
   "skip_h1_title": false,
   "title_cell": "Table of Contents",
   "title_sidebar": "Contents",
   "toc_cell": false,
   "toc_position": {},
   "toc_section_display": true,
   "toc_window_display": false
  }
 },
 "nbformat": 4,
 "nbformat_minor": 1
}

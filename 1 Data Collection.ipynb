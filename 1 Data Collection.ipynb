{
 "cells": [
  {
   "cell_type": "markdown",
   "metadata": {
    "cell_id": "156a37da2f644e9fbebc0bff18ad6a68",
    "deepnote_app_coordinates": {
     "h": 5,
     "w": 12,
     "x": 0,
     "y": 0
    },
    "deepnote_cell_type": "text-cell-h1",
    "formattedRanges": [],
    "is_collapsed": false,
    "tags": []
   },
   "source": [
    "# 1 Data Collection"
   ]
  },
  {
   "cell_type": "markdown",
   "metadata": {
    "cell_id": "6ececee8-e891-4e6a-a267-07bafc24a0c2",
    "deepnote_app_coordinates": {
     "h": 5,
     "w": 12,
     "x": 0,
     "y": 0
    },
    "deepnote_cell_type": "text-cell-p",
    "formattedRanges": [
     {
      "fromCodePoint": 96,
      "ranges": [],
      "toCodePoint": 138,
      "type": "link",
      "url": "https://greysanatomy.fandom.com/wiki/Grey%27s_Anatomy_Universe_Wiki"
     }
    ],
    "is_collapsed": false,
    "tags": []
   },
   "source": [
    "The data collection for analyzing social graphs and interactions was performed for scraping the Fandom Wiki of the Grey's Anatomy universe in the following three main steps. "
   ]
  },
  {
   "cell_type": "markdown",
   "metadata": {
    "cell_id": "ce0f6531bde64dccadfa7e78972c8c1b",
    "deepnote_app_coordinates": {
     "h": 5,
     "w": 12,
     "x": 0,
     "y": 0
    },
    "deepnote_cell_type": "markdown",
    "tags": []
   },
   "source": [
    "1. Scraping the list of Grey's Anatomy characters\n",
    "\n",
    "2. Scraping and cleaning the character pages of every character in the character list\n",
    "\n",
    "3. Scrape the episode and season summaries\n",
    "\n",
    "The scraping will be done for all characters of all Grey's Anatomy shows, Grey's Anatomy as the main show and Private Practice and Station 19 as the spin-offs.\n"
   ]
  },
  {
   "cell_type": "code",
   "execution_count": 1,
   "metadata": {
    "cell_id": "3a400ea5289746aa878cd5e61b7304d0",
    "deepnote_app_coordinates": {
     "h": 5,
     "w": 12,
     "x": 0,
     "y": 7
    },
    "deepnote_cell_type": "code",
    "deepnote_to_be_reexecuted": false,
    "execution_millis": 12764,
    "execution_start": 1670927428421,
    "source_hash": "4d73549",
    "tags": []
   },
   "outputs": [],
   "source": [
    "import warnings\n",
    "warnings.filterwarnings(\"ignore\")\n",
    "\n",
    "import json\n",
    "import pandas as pd\n",
    "import urllib.request\n",
    "import re\n",
    "import numpy as np\n",
    "import urllib.request\n",
    "import requests\n",
    "from sklearn import preprocessing\n",
    "import matplotlib.pyplot as plt\n",
    "%matplotlib inline"
   ]
  },
  {
   "cell_type": "markdown",
   "metadata": {
    "cell_id": "d9c6609227344fc9bb22a0c207449387",
    "deepnote_app_coordinates": {
     "h": 5,
     "w": 12,
     "x": 0,
     "y": 0
    },
    "deepnote_cell_type": "text-cell-h2",
    "formattedRanges": [],
    "is_collapsed": false,
    "tags": []
   },
   "source": [
    "## 1.1 Scraping the character list"
   ]
  },
  {
   "cell_type": "markdown",
   "metadata": {
    "cell_id": "b4d41bc9-41f8-409d-8a56-bc6f4e5f4459",
    "deepnote_app_coordinates": {
     "h": 5,
     "w": 12,
     "x": 0,
     "y": 0
    },
    "deepnote_cell_type": "text-cell-p",
    "formattedRanges": [],
    "is_collapsed": false,
    "tags": []
   },
   "source": [
    "The first step of the data gathering is to get the list of all characters from the Fandom page."
   ]
  },
  {
   "cell_type": "code",
   "execution_count": 9,
   "metadata": {
    "cell_id": "8f7ce7aeeb024d6689d3ca09c140c12f",
    "deepnote_app_coordinates": {
     "h": 5,
     "w": 12,
     "x": 0,
     "y": 16
    },
    "deepnote_cell_type": "code",
    "deepnote_to_be_reexecuted": false,
    "execution_millis": 0,
    "execution_start": 1670927608090,
    "source_hash": "db339ff6",
    "tags": []
   },
   "outputs": [],
   "source": [
    "session = requests.Session()\n",
    "\n",
    "url = \"https://greysanatomy.fandom.com/api.php\""
   ]
  },
  {
   "cell_type": "code",
   "execution_count": 10,
   "metadata": {
    "cell_id": "d2460553707f4609a5de8e2ea5cadc81",
    "deepnote_app_coordinates": {
     "h": 5,
     "w": 12,
     "x": 0,
     "y": 22
    },
    "deepnote_cell_type": "code",
    "deepnote_to_be_reexecuted": false,
    "execution_millis": 790,
    "execution_start": 1670927609387,
    "source_hash": "1caee743",
    "tags": []
   },
   "outputs": [],
   "source": [
    "params = {\n",
    "    \"format\": \"json\",\n",
    "    \"list\": \"categorymembers\",\n",
    "    \"action\": \"query\",\n",
    "    \"cmtitle\": \"Category:Characters\",\n",
    "    \"cmlimit\": \"500\",\n",
    "    \"cmcontinue\": \"\"\n",
    "}\n",
    "request = session.get(url=url, params=params)\n",
    "data = request.json()\n",
    "\n",
    "pages = data[\"query\"][\"categorymembers\"]\n",
    "\n",
    "while 'continue' in data.keys():\n",
    "    params[\"cmcontinue\"] = data[\"continue\"][\"cmcontinue\"]\n",
    "    request = session.get(url=url, params=params)\n",
    "    data = request.json()\n",
    "    pages.extend(data[\"query\"][\"categorymembers\"])\n",
    "\n",
    "with open('data/characters.json', 'w', encoding='utf-8') as file:\n",
    "    json.dump(pages, file, ensure_ascii=False, indent=4)"
   ]
  },
  {
   "cell_type": "markdown",
   "metadata": {
    "cell_id": "7d1467a0c92c46ba8b58ca2984dbe7ef",
    "deepnote_app_coordinates": {
     "h": 5,
     "w": 12,
     "x": 0,
     "y": 0
    },
    "deepnote_cell_type": "text-cell-h2",
    "formattedRanges": [],
    "is_collapsed": false,
    "tags": []
   },
   "source": [
    "## 1.2 Scraping and cleaning the character pages"
   ]
  },
  {
   "cell_type": "markdown",
   "metadata": {
    "cell_id": "01077c47799b425ca3ef66203c473b72",
    "deepnote_app_coordinates": {
     "h": 5,
     "w": 12,
     "x": 0,
     "y": 0
    },
    "deepnote_cell_type": "markdown",
    "tags": []
   },
   "source": [
    "The scraping and cleaning of the character pages contains the following main steps.\n",
    "1. Scrape and save the character wikipages in a folder based on the character list\n",
    "2. Get the occurences of each character in every show (Grey's Anatomy, Private Practice, Station 19) normalized by the number of season \n",
    "3. Define the main universe of the character based on the occurences\n",
    "4. Define categories of characters (Doctors, Nurses, Patients or other such as Family or Friends)\n",
    "5. Extract the list of aliases for characters and the status (Dead or alive) from the infobox\n",
    "6. Scrape the clean description for each character \n",
    "7. Get the history for each character\n",
    "\n"
   ]
  },
  {
   "cell_type": "code",
   "execution_count": 11,
   "metadata": {
    "cell_id": "f75e6d934e6247ef962dcb0d87f09f71",
    "deepnote_app_coordinates": {
     "h": 5,
     "w": 12,
     "x": 0,
     "y": 31
    },
    "deepnote_cell_type": "code",
    "deepnote_to_be_reexecuted": false,
    "execution_millis": 31,
    "execution_start": 1670927620149,
    "source_hash": "28c2e053",
    "tags": []
   },
   "outputs": [
    {
     "data": {
      "application/vnd.deepnote.dataframe.v3+json": {
       "column_count": 3,
       "columns": [
        {
         "dtype": "int64",
         "name": "pageid",
         "stats": {
          "histogram": [
           {
            "bin_end": 16018.8,
            "bin_start": 8218,
            "count": 1
           },
           {
            "bin_end": 23819.6,
            "bin_start": 16018.8,
            "count": 0
           },
           {
            "bin_end": 31620.4,
            "bin_start": 23819.6,
            "count": 1
           },
           {
            "bin_end": 39421.2,
            "bin_start": 31620.4,
            "count": 1
           },
           {
            "bin_end": 47222,
            "bin_start": 39421.2,
            "count": 0
           },
           {
            "bin_end": 55022.8,
            "bin_start": 47222,
            "count": 6
           },
           {
            "bin_end": 62823.6,
            "bin_start": 55022.8,
            "count": 0
           },
           {
            "bin_end": 70624.4,
            "bin_start": 62823.6,
            "count": 0
           },
           {
            "bin_end": 78425.2,
            "bin_start": 70624.4,
            "count": 0
           },
           {
            "bin_end": 86226,
            "bin_start": 78425.2,
            "count": 1
           }
          ],
          "max": "86226",
          "min": "8218",
          "nan_count": 0,
          "unique_count": 10
         }
        },
        {
         "dtype": "int64",
         "name": "ns",
         "stats": {
          "histogram": [
           {
            "bin_end": 1.4,
            "bin_start": 0,
            "count": 8
           },
           {
            "bin_end": 2.8,
            "bin_start": 1.4,
            "count": 0
           },
           {
            "bin_end": 4.199999999999999,
            "bin_start": 2.8,
            "count": 0
           },
           {
            "bin_end": 5.6,
            "bin_start": 4.199999999999999,
            "count": 0
           },
           {
            "bin_end": 7,
            "bin_start": 5.6,
            "count": 0
           },
           {
            "bin_end": 8.399999999999999,
            "bin_start": 7,
            "count": 0
           },
           {
            "bin_end": 9.799999999999999,
            "bin_start": 8.399999999999999,
            "count": 0
           },
           {
            "bin_end": 11.2,
            "bin_start": 9.799999999999999,
            "count": 0
           },
           {
            "bin_end": 12.6,
            "bin_start": 11.2,
            "count": 0
           },
           {
            "bin_end": 14,
            "bin_start": 12.6,
            "count": 2
           }
          ],
          "max": "14",
          "min": "0",
          "nan_count": 0,
          "unique_count": 2
         }
        },
        {
         "dtype": "object",
         "name": "title",
         "stats": {
          "categories": [
           {
            "count": 1,
            "name": "Dr. Simcox"
           },
           {
            "count": 1,
            "name": "Rachel Bishop"
           },
           {
            "count": 8,
            "name": "8 others"
           }
          ],
          "nan_count": 0,
          "unique_count": 10
         }
        },
        {
         "dtype": "int64",
         "name": "_deepnote_index_column"
        }
       ],
       "row_count": 10,
       "rows": [
        {
         "_deepnote_index_column": "2798",
         "ns": "0",
         "pageid": "50318",
         "title": "Dr. Simcox"
        },
        {
         "_deepnote_index_column": "241",
         "ns": "0",
         "pageid": "47482",
         "title": "Rachel Bishop"
        },
        {
         "_deepnote_index_column": "484",
         "ns": "0",
         "pageid": "34824",
         "title": "Chris (Season 11)"
        },
        {
         "_deepnote_index_column": "3356",
         "ns": "14",
         "pageid": "51013",
         "title": "Category:Patients (Endocrinology)"
        },
        {
         "_deepnote_index_column": "3365",
         "ns": "14",
         "pageid": "8218",
         "title": "Category:Patients (Oncology)"
        },
        {
         "_deepnote_index_column": "2833",
         "ns": "0",
         "pageid": "29861",
         "title": "Leanne Smith"
        },
        {
         "_deepnote_index_column": "2749",
         "ns": "0",
         "pageid": "48863",
         "title": "Sharon (Stand By Me)"
        },
        {
         "_deepnote_index_column": "2750",
         "ns": "0",
         "pageid": "86226",
         "title": "Sharon Peters"
        },
        {
         "_deepnote_index_column": "496",
         "ns": "0",
         "pageid": "50776",
         "title": "Claire (Private Practice)"
        },
        {
         "_deepnote_index_column": "2256",
         "ns": "0",
         "pageid": "48070",
         "title": "Mr. Nyles"
        }
       ]
      },
      "text/html": [
       "<div>\n",
       "<style scoped>\n",
       "    .dataframe tbody tr th:only-of-type {\n",
       "        vertical-align: middle;\n",
       "    }\n",
       "\n",
       "    .dataframe tbody tr th {\n",
       "        vertical-align: top;\n",
       "    }\n",
       "\n",
       "    .dataframe thead th {\n",
       "        text-align: right;\n",
       "    }\n",
       "</style>\n",
       "<table border=\"1\" class=\"dataframe\">\n",
       "  <thead>\n",
       "    <tr style=\"text-align: right;\">\n",
       "      <th></th>\n",
       "      <th>pageid</th>\n",
       "      <th>ns</th>\n",
       "      <th>title</th>\n",
       "    </tr>\n",
       "  </thead>\n",
       "  <tbody>\n",
       "    <tr>\n",
       "      <th>2798</th>\n",
       "      <td>50318</td>\n",
       "      <td>0</td>\n",
       "      <td>Dr. Simcox</td>\n",
       "    </tr>\n",
       "    <tr>\n",
       "      <th>241</th>\n",
       "      <td>47482</td>\n",
       "      <td>0</td>\n",
       "      <td>Rachel Bishop</td>\n",
       "    </tr>\n",
       "    <tr>\n",
       "      <th>484</th>\n",
       "      <td>34824</td>\n",
       "      <td>0</td>\n",
       "      <td>Chris (Season 11)</td>\n",
       "    </tr>\n",
       "    <tr>\n",
       "      <th>3356</th>\n",
       "      <td>51013</td>\n",
       "      <td>14</td>\n",
       "      <td>Category:Patients (Endocrinology)</td>\n",
       "    </tr>\n",
       "    <tr>\n",
       "      <th>3365</th>\n",
       "      <td>8218</td>\n",
       "      <td>14</td>\n",
       "      <td>Category:Patients (Oncology)</td>\n",
       "    </tr>\n",
       "    <tr>\n",
       "      <th>2833</th>\n",
       "      <td>29861</td>\n",
       "      <td>0</td>\n",
       "      <td>Leanne Smith</td>\n",
       "    </tr>\n",
       "    <tr>\n",
       "      <th>2749</th>\n",
       "      <td>48863</td>\n",
       "      <td>0</td>\n",
       "      <td>Sharon (Stand By Me)</td>\n",
       "    </tr>\n",
       "    <tr>\n",
       "      <th>2750</th>\n",
       "      <td>86226</td>\n",
       "      <td>0</td>\n",
       "      <td>Sharon Peters</td>\n",
       "    </tr>\n",
       "    <tr>\n",
       "      <th>496</th>\n",
       "      <td>50776</td>\n",
       "      <td>0</td>\n",
       "      <td>Claire (Private Practice)</td>\n",
       "    </tr>\n",
       "    <tr>\n",
       "      <th>2256</th>\n",
       "      <td>48070</td>\n",
       "      <td>0</td>\n",
       "      <td>Mr. Nyles</td>\n",
       "    </tr>\n",
       "  </tbody>\n",
       "</table>\n",
       "</div>"
      ],
      "text/plain": [
       "      pageid  ns                              title\n",
       "2798   50318   0                         Dr. Simcox\n",
       "241    47482   0                      Rachel Bishop\n",
       "484    34824   0                  Chris (Season 11)\n",
       "3356   51013  14  Category:Patients (Endocrinology)\n",
       "3365    8218  14       Category:Patients (Oncology)\n",
       "2833   29861   0                       Leanne Smith\n",
       "2749   48863   0               Sharon (Stand By Me)\n",
       "2750   86226   0                      Sharon Peters\n",
       "496    50776   0          Claire (Private Practice)\n",
       "2256   48070   0                          Mr. Nyles"
      ]
     },
     "execution_count": 11,
     "metadata": {},
     "output_type": "execute_result"
    }
   ],
   "source": [
    "# open the list of characters and save to a dataframe \n",
    "f = open('data/characters.json')\n",
    "data = json.load(f) \n",
    "df = pd.DataFrame(data)\n",
    "df.sample(10)"
   ]
  },
  {
   "cell_type": "code",
   "execution_count": 12,
   "metadata": {
    "cell_id": "bbc76f845d6a4252a4c4eeb85ed5eb63",
    "deepnote_app_coordinates": {
     "h": 5,
     "w": 12,
     "x": 0,
     "y": 43
    },
    "deepnote_cell_type": "code",
    "deepnote_to_be_reexecuted": false,
    "execution_millis": 3,
    "execution_start": 1670927623603,
    "source_hash": "9f5de4fc",
    "tags": []
   },
   "outputs": [],
   "source": [
    "# drop the ns column as it does not contain any valuable information\n",
    "df.drop(columns = ['ns'], inplace=True)"
   ]
  },
  {
   "cell_type": "code",
   "execution_count": 13,
   "metadata": {
    "cell_id": "48836becb2df40e59837e5189376d8fe",
    "deepnote_app_coordinates": {
     "h": 5,
     "w": 12,
     "x": 0,
     "y": 49
    },
    "deepnote_cell_type": "code",
    "deepnote_to_be_reexecuted": false,
    "execution_millis": 30,
    "execution_start": 1670927625100,
    "source_hash": "4eda7d7d",
    "tags": []
   },
   "outputs": [],
   "source": [
    "# create a column for the file name to store the character page based on the character name in title\n",
    "df['file'] = df['title']\n",
    "df = df.replace({\"file\":{\" \":\"_\", \"/\":\"_\", \"\\\"\":\"\", \"\\?\":\"\"}}, regex=True)\n",
    "df = df[~df.file.str.contains(\"Unnamed_Characters\")]\n",
    "df = df[~df.file.str.contains(\"Unseen\")]\n",
    "df = df[~df.file.str.contains(\"User\")]\n",
    "df = df[~df.file.str.contains(\"Category\")]"
   ]
  },
  {
   "cell_type": "code",
   "execution_count": 14,
   "metadata": {
    "cell_id": "749bbcfd5cba45c29d82dbef2665a143",
    "deepnote_app_coordinates": {
     "h": 5,
     "w": 12,
     "x": 0,
     "y": 64
    },
    "deepnote_cell_type": "code",
    "deepnote_to_be_reexecuted": false,
    "execution_millis": 365696,
    "execution_start": 1670927652390,
    "source_hash": "69db70ee",
    "tags": []
   },
   "outputs": [],
   "source": [
    "# scrape the character pages and save them in a folder called character wikipages\n",
    "for index, row in df.iterrows():\n",
    "    pageid = row['pageid']\n",
    "    title = row['file']\n",
    "    \n",
    "    query = \"https://greysanatomy.fandom.com/api.php?action=query&pageids={}&prop=revisions&rvprop=content&format=json\".format(pageid)\n",
    "    \n",
    "    wikiresponse = urllib.request.urlopen(query)\n",
    "    wikidata = wikiresponse.read()\n",
    "    wikitext = wikidata.decode('utf-8')\n",
    "    data_json = json.loads(wikitext)\n",
    "    \n",
    "    with open(\"data/character wikipages/\" + title+'.json', 'w') as f:\n",
    "        json.dump(data_json, f)"
   ]
  },
  {
   "cell_type": "code",
   "execution_count": 15,
   "metadata": {
    "cell_id": "e3bcf76f847140918231f79662549dcd",
    "deepnote_app_coordinates": {
     "h": 5,
     "w": 12,
     "x": 0,
     "y": 88
    },
    "deepnote_cell_type": "code",
    "deepnote_to_be_reexecuted": false,
    "execution_millis": 3030,
    "execution_start": 1670928035573,
    "source_hash": "a9a1d189",
    "tags": []
   },
   "outputs": [],
   "source": [
    "# get the outlinks for each character page for the universe assignment and connection betwenn characters\n",
    "df['outlinks_clean'] = \"\"\n",
    "df['outlinks_clean'] = df['outlinks_clean'].astype('object')\n",
    "\n",
    "for index, row in df.iterrows():\n",
    "    title = row['file']\n",
    "    pageid = str(row['pageid'])\n",
    "    \n",
    "    f = open(\"data/character wikipages/\" + title + \".json\")\n",
    "    data = json.load(f)\n",
    "    text = json.dumps(data)\n",
    "    \n",
    "    \n",
    "    res = re.findall(r\"\\[\\[.*?\\]\\]\", text)\n",
    "    res_clean = []\n",
    "    for element in res:\n",
    "        element = element.strip(\"[[\").strip(\"]]\")\n",
    "        res_clean.append(element)\n",
    "    \n",
    "    df.at[index, 'outlinks_clean'] = res_clean"
   ]
  },
  {
   "cell_type": "code",
   "execution_count": 16,
   "metadata": {
    "cell_id": "586ced8b16d143afa5c37f118b9b2273",
    "deepnote_app_coordinates": {
     "h": 5,
     "w": 12,
     "x": 0,
     "y": 94
    },
    "deepnote_cell_type": "code",
    "deepnote_to_be_reexecuted": false,
    "execution_millis": 391,
    "execution_start": 1670928039947,
    "source_hash": "c08f9e0",
    "tags": []
   },
   "outputs": [],
   "source": [
    "# count the occurence of a character in the seasons and normalize by the number of seasons\n",
    "for index, row in df.iterrows():\n",
    "    ga_count = 0\n",
    "    pp_count = 0\n",
    "    s19_count = 0\n",
    "    for element in row['outlinks_clean']:\n",
    "        if element.startswith(\"Category\"):\n",
    "            ga_count += element.count(\"GA S\")\n",
    "            pp_count += element.count(\"PP S\")\n",
    "            s19_count += element.count(\"S19 S\")\n",
    "        \n",
    "    df.at[index, \"ga_occurences\"] = ga_count/19\n",
    "    df.at[index, \"pp_occurences\"] = pp_count/6\n",
    "    df.at[index, \"s19_occurences\"] = s19_count/6"
   ]
  },
  {
   "cell_type": "code",
   "execution_count": 17,
   "metadata": {
    "cell_id": "4fbffb1cd35b4337a785bbcb959db5a0",
    "deepnote_app_coordinates": {
     "h": 5,
     "w": 12,
     "x": 0,
     "y": 100
    },
    "deepnote_cell_type": "code",
    "deepnote_to_be_reexecuted": false,
    "execution_millis": 385,
    "execution_start": 1670928041535,
    "source_hash": "9919a40e",
    "tags": []
   },
   "outputs": [],
   "source": [
    "# define a main universe based on the occurences and drop characters without main universe\n",
    "for index, row in df.iterrows():   \n",
    "    if row['ga_occurences'] >= row['pp_occurences'] and row['ga_occurences'] >= row['s19_occurences'] and row['ga_occurences'] > 0:\n",
    "        df.at[index, 'main_universe'] = \"Grey's Anatomy\"\n",
    "    elif row['pp_occurences'] > row['ga_occurences'] and row['pp_occurences'] >= row['s19_occurences'] and row['pp_occurences'] > 0:\n",
    "        df.at[index, 'main_universe'] = \"Private Practice\"\n",
    "    elif row['s19_occurences'] > row['ga_occurences'] and row['s19_occurences'] > row['ga_occurences'] and row['s19_occurences'] > 0:\n",
    "        df.at[index, 'main_universe'] = \"Station 19\"\n",
    "\n",
    "df = df[~df.main_universe.isnull()]"
   ]
  },
  {
   "cell_type": "code",
   "execution_count": 18,
   "metadata": {
    "cell_id": "904f2c24e4074ecab6f87d081bc5b61e",
    "deepnote_app_coordinates": {
     "h": 5,
     "w": 12,
     "x": 0,
     "y": 112
    },
    "deepnote_cell_type": "code",
    "deepnote_to_be_reexecuted": false,
    "execution_millis": 1,
    "execution_start": 1670928043706,
    "source_hash": "363775cb",
    "tags": []
   },
   "outputs": [],
   "source": [
    "# create a column with the encoded universe\n",
    "le = preprocessing.LabelEncoder()\n",
    "df['universe_encoded'] = le.fit_transform(df['main_universe'])"
   ]
  },
  {
   "cell_type": "code",
   "execution_count": 19,
   "metadata": {
    "cell_id": "97f2a5476e2b4ed9a781ae5b488f2291",
    "deepnote_app_coordinates": {
     "h": 5,
     "w": 12,
     "x": 0,
     "y": 118
    },
    "deepnote_cell_type": "code",
    "deepnote_to_be_reexecuted": false,
    "execution_millis": 354,
    "execution_start": 1670928045632,
    "source_hash": "a2613e38",
    "tags": []
   },
   "outputs": [],
   "source": [
    "# define categories of characters (Doctors, Nurses, Patients or other such as Family or Friends)\n",
    "for index, row in df.iterrows():\n",
    "    if 'Category:Doctors' in row['outlinks_clean'] :\n",
    "        df.at[index, 'category'] = \"Doctor\"\n",
    "    elif 'Category:Firefighters' in row['outlinks_clean']:\n",
    "        df.at[index, 'category'] = \"Firefighter\"\n",
    "    elif 'Category:Nurses' in row['outlinks_clean']:\n",
    "        df.at[index, 'category'] = \"Nurses\"\n",
    "    elif 'Category:Patients' in row['outlinks_clean']:\n",
    "        df.at[index, 'category'] = \"Patient\"\n",
    "    else: \n",
    "        df.at[index, 'category'] = \"Other\""
   ]
  },
  {
   "cell_type": "code",
   "execution_count": 20,
   "metadata": {
    "cell_id": "1f48f2e4295f416bada568ca7030a21a",
    "deepnote_app_coordinates": {
     "h": 5,
     "w": 12,
     "x": 0,
     "y": 124
    },
    "deepnote_cell_type": "code",
    "deepnote_to_be_reexecuted": false,
    "execution_millis": 1015,
    "execution_start": 1670928056772,
    "source_hash": "71f9571d",
    "tags": []
   },
   "outputs": [],
   "source": [
    "# get the status of each character whether the character is alive or dead and the list of aliases\n",
    "for index, row in df.iterrows():\n",
    "    title = row['file']\n",
    "    pageid = str(row['pageid'])\n",
    "    \n",
    "    f = open(\"data/character wikipages/\" + title + \".json\")\n",
    "    data = json.load(f)\n",
    "    text = json.dumps(data)\n",
    "    \n",
    "    pattern_infobox = r'\\{\\{\\w+\\sInfobox.*?\\}\\}'\n",
    "    infobox = re.findall(pattern_infobox, text)\n",
    "    if len(infobox) >0:\n",
    "        infobox = infobox[0]\n",
    "        infobox = infobox.strip(\"{{\").strip(\"}}\").replace('\\\\n|', '\\n')\n",
    "        character_info = {}\n",
    "        for line in infobox.split('\\n'):\n",
    "            if 'Infobox' not in line:\n",
    "                info = line.split(' = ')\n",
    "                if len(info)>1:\n",
    "                    character_info[info[0]] = info[1]\n",
    "        \n",
    "        if \"status\" in character_info.keys():\n",
    "            df.at[index, 'status'] = character_info['status']\n",
    "            \n",
    "        if \"alias\" in character_info.keys():\n",
    "            alias_list = []\n",
    "            alias_list = character_info['alias'].split(\"\\\\n\")\n",
    "    \n",
    "            df.at[index, 'alias_list'] = alias_list"
   ]
  },
  {
   "cell_type": "code",
   "execution_count": 21,
   "metadata": {
    "cell_id": "fb244ee0d1674ded8ef91bd455d0f99c",
    "deepnote_app_coordinates": {
     "h": 5,
     "w": 12,
     "x": 0,
     "y": 130
    },
    "deepnote_cell_type": "code",
    "deepnote_to_be_reexecuted": false,
    "execution_millis": 339524,
    "execution_start": 1670928064566,
    "source_hash": "398d6201",
    "tags": []
   },
   "outputs": [],
   "source": [
    "# get a description of each character\n",
    "for index, row in df.iterrows():\n",
    "    pageid = row['pageid']\n",
    "    title = row['file']\n",
    "    \n",
    "    query = \"https://greysanatomy.fandom.com/api.php?action=query&pageids={}&prop=pageprops&format=json\".format(pageid)\n",
    "    \n",
    "    wikiresponse = urllib.request.urlopen(query)\n",
    "    wikidata = wikiresponse.read()\n",
    "    wikitext = wikidata.decode('utf-8')\n",
    "    data_json = json.loads(wikitext)\n",
    "    \n",
    "    if \"fandomdescription\" in data_json['query']['pages'][str(pageid)]['pageprops'].keys():\n",
    "        df.at[index, 'description'] = data_json['query']['pages'][str(pageid)]['pageprops']['fandomdescription']"
   ]
  },
  {
   "cell_type": "code",
   "execution_count": 22,
   "metadata": {
    "cell_id": "31913ff9bb9745d3985aba06bd68d6b5",
    "deepnote_app_coordinates": {
     "h": 5,
     "w": 12,
     "x": 0,
     "y": 136
    },
    "deepnote_cell_type": "code",
    "deepnote_to_be_reexecuted": false,
    "execution_millis": 12,
    "execution_start": 1670928404090,
    "source_hash": "e1f087cc",
    "tags": []
   },
   "outputs": [
    {
     "data": {
      "application/vnd.deepnote.dataframe.v3+json": {
       "column_count": 13,
       "columns": [
        {
         "dtype": "int64",
         "name": "pageid",
         "stats": {
          "histogram": [
           {
            "bin_end": 36715.6,
            "bin_start": 31512,
            "count": 1
           },
           {
            "bin_end": 41919.2,
            "bin_start": 36715.6,
            "count": 0
           },
           {
            "bin_end": 47122.8,
            "bin_start": 41919.2,
            "count": 1
           },
           {
            "bin_end": 52326.4,
            "bin_start": 47122.8,
            "count": 4
           },
           {
            "bin_end": 57530,
            "bin_start": 52326.4,
            "count": 0
           },
           {
            "bin_end": 62733.600000000006,
            "bin_start": 57530,
            "count": 1
           },
           {
            "bin_end": 67937.20000000001,
            "bin_start": 62733.600000000006,
            "count": 1
           },
           {
            "bin_end": 73140.8,
            "bin_start": 67937.20000000001,
            "count": 0
           },
           {
            "bin_end": 78344.4,
            "bin_start": 73140.8,
            "count": 0
           },
           {
            "bin_end": 83548,
            "bin_start": 78344.4,
            "count": 2
           }
          ],
          "max": "83548",
          "min": "31512",
          "nan_count": 0,
          "unique_count": 10
         }
        },
        {
         "dtype": "object",
         "name": "title",
         "stats": {
          "categories": [
           {
            "count": 1,
            "name": "Chuckie Patel"
           },
           {
            "count": 1,
            "name": "Andrea"
           },
           {
            "count": 8,
            "name": "8 others"
           }
          ],
          "nan_count": 0,
          "unique_count": 10
         }
        },
        {
         "dtype": "object",
         "name": "file",
         "stats": {
          "categories": [
           {
            "count": 1,
            "name": "Chuckie_Patel"
           },
           {
            "count": 1,
            "name": "Andrea"
           },
           {
            "count": 8,
            "name": "8 others"
           }
          ],
          "nan_count": 0,
          "unique_count": 10
         }
        },
        {
         "dtype": "object",
         "name": "outlinks_clean",
         "stats": {
          "categories": [
           {
            "count": 1,
            "name": "['Isaac Patel', 'Rina Patel', 'Tina Patel', \"Love the One You're With\", \"Grey's Anatomy|GA\", \"Season 9 (Grey's Anatomy)|9\", 'Luke Ganalon', 'Isaac Patel', 'Mayo Clinic', 'Craig Thomas', 'Cristina Yang', 'Category:Characters', 'Category:GA Characters', 'Category:GA S9 Characters']"
           },
           {
            "count": 1,
            "name": "['Dell Parker', 'Naomi Bennett', 'In Which Addison Finds a Showerhead', 'Private Practice|PP', 'Season 1 (Private Practice)|1', 'Amy Rosoff', 'Category:Characters', 'Category:PP Characters', 'Category:PP S1 Characters', 'Category:Patients', 'Category:Patients (OB/GYN)']"
           },
           {
            "count": 8,
            "name": "8 others"
           }
          ],
          "nan_count": 0,
          "unique_count": 10
         }
        },
        {
         "dtype": "float64",
         "name": "ga_occurences",
         "stats": {
          "histogram": [
           {
            "bin_end": 0.031578947368421054,
            "bin_start": 0,
            "count": 3
           },
           {
            "bin_end": 0.06315789473684211,
            "bin_start": 0.031578947368421054,
            "count": 5
           },
           {
            "bin_end": 0.09473684210526316,
            "bin_start": 0.06315789473684211,
            "count": 0
           },
           {
            "bin_end": 0.12631578947368421,
            "bin_start": 0.09473684210526316,
            "count": 1
           },
           {
            "bin_end": 0.15789473684210525,
            "bin_start": 0.12631578947368421,
            "count": 0
           },
           {
            "bin_end": 0.18947368421052632,
            "bin_start": 0.15789473684210525,
            "count": 0
           },
           {
            "bin_end": 0.2210526315789474,
            "bin_start": 0.18947368421052632,
            "count": 0
           },
           {
            "bin_end": 0.25263157894736843,
            "bin_start": 0.2210526315789474,
            "count": 0
           },
           {
            "bin_end": 0.28421052631578947,
            "bin_start": 0.25263157894736843,
            "count": 0
           },
           {
            "bin_end": 0.3157894736842105,
            "bin_start": 0.28421052631578947,
            "count": 1
           }
          ],
          "max": "0.3157894736842105",
          "min": "0.0",
          "nan_count": 0,
          "unique_count": 4
         }
        },
        {
         "dtype": "float64",
         "name": "pp_occurences",
         "stats": {
          "histogram": [
           {
            "bin_end": 0.016666666666666666,
            "bin_start": 0,
            "count": 8
           },
           {
            "bin_end": 0.03333333333333333,
            "bin_start": 0.016666666666666666,
            "count": 0
           },
           {
            "bin_end": 0.05,
            "bin_start": 0.03333333333333333,
            "count": 0
           },
           {
            "bin_end": 0.06666666666666667,
            "bin_start": 0.05,
            "count": 0
           },
           {
            "bin_end": 0.08333333333333333,
            "bin_start": 0.06666666666666667,
            "count": 0
           },
           {
            "bin_end": 0.1,
            "bin_start": 0.08333333333333333,
            "count": 0
           },
           {
            "bin_end": 0.11666666666666667,
            "bin_start": 0.1,
            "count": 0
           },
           {
            "bin_end": 0.13333333333333333,
            "bin_start": 0.11666666666666667,
            "count": 0
           },
           {
            "bin_end": 0.15,
            "bin_start": 0.13333333333333333,
            "count": 0
           },
           {
            "bin_end": 0.16666666666666666,
            "bin_start": 0.15,
            "count": 2
           }
          ],
          "max": "0.16666666666666666",
          "min": "0.0",
          "nan_count": 0,
          "unique_count": 2
         }
        },
        {
         "dtype": "float64",
         "name": "s19_occurences",
         "stats": {
          "histogram": [
           {
            "bin_end": 0.05,
            "bin_start": 0,
            "count": 8
           },
           {
            "bin_end": 0.1,
            "bin_start": 0.05,
            "count": 0
           },
           {
            "bin_end": 0.15000000000000002,
            "bin_start": 0.1,
            "count": 0
           },
           {
            "bin_end": 0.2,
            "bin_start": 0.15000000000000002,
            "count": 1
           },
           {
            "bin_end": 0.25,
            "bin_start": 0.2,
            "count": 0
           },
           {
            "bin_end": 0.30000000000000004,
            "bin_start": 0.25,
            "count": 0
           },
           {
            "bin_end": 0.35000000000000003,
            "bin_start": 0.30000000000000004,
            "count": 0
           },
           {
            "bin_end": 0.4,
            "bin_start": 0.35000000000000003,
            "count": 0
           },
           {
            "bin_end": 0.45,
            "bin_start": 0.4,
            "count": 0
           },
           {
            "bin_end": 0.5,
            "bin_start": 0.45,
            "count": 1
           }
          ],
          "max": "0.5",
          "min": "0.0",
          "nan_count": 0,
          "unique_count": 3
         }
        },
        {
         "dtype": "object",
         "name": "main_universe",
         "stats": {
          "categories": [
           {
            "count": 6,
            "name": "Grey's Anatomy"
           },
           {
            "count": 2,
            "name": "Private Practice"
           },
           {
            "count": 2,
            "name": "Station 19"
           }
          ],
          "nan_count": 0,
          "unique_count": 3
         }
        },
        {
         "dtype": "int64",
         "name": "universe_encoded",
         "stats": {
          "histogram": [
           {
            "bin_end": 0.2,
            "bin_start": 0,
            "count": 6
           },
           {
            "bin_end": 0.4,
            "bin_start": 0.2,
            "count": 0
           },
           {
            "bin_end": 0.6000000000000001,
            "bin_start": 0.4,
            "count": 0
           },
           {
            "bin_end": 0.8,
            "bin_start": 0.6000000000000001,
            "count": 0
           },
           {
            "bin_end": 1,
            "bin_start": 0.8,
            "count": 0
           },
           {
            "bin_end": 1.2000000000000002,
            "bin_start": 1,
            "count": 2
           },
           {
            "bin_end": 1.4000000000000001,
            "bin_start": 1.2000000000000002,
            "count": 0
           },
           {
            "bin_end": 1.6,
            "bin_start": 1.4000000000000001,
            "count": 0
           },
           {
            "bin_end": 1.8,
            "bin_start": 1.6,
            "count": 0
           },
           {
            "bin_end": 2,
            "bin_start": 1.8,
            "count": 2
           }
          ],
          "max": "2",
          "min": "0",
          "nan_count": 0,
          "unique_count": 3
         }
        },
        {
         "dtype": "object",
         "name": "category",
         "stats": {
          "categories": [
           {
            "count": 5,
            "name": "Patient"
           },
           {
            "count": 3,
            "name": "Other"
           },
           {
            "count": 2,
            "name": "Doctor"
           }
          ],
          "nan_count": 0,
          "unique_count": 3
         }
        },
        {
         "dtype": "object",
         "name": "status",
         "stats": {
          "categories": [
           {
            "count": 8,
            "name": "Alive"
           },
           {
            "count": 1,
            "name": "Deceased"
           },
           {
            "count": 1,
            "name": "Missing"
           }
          ],
          "nan_count": 1,
          "unique_count": 2
         }
        },
        {
         "dtype": "object",
         "name": "alias_list",
         "stats": {
          "categories": [
           {
            "count": 10,
            "name": "Missing"
           }
          ],
          "nan_count": 10,
          "unique_count": 0
         }
        },
        {
         "dtype": "object",
         "name": "description",
         "stats": {
          "categories": [
           {
            "count": 2,
            "name": ""
           },
           {
            "count": 2,
            "name": "2 others"
           },
           {
            "count": 6,
            "name": "Missing"
           }
          ],
          "nan_count": 6,
          "unique_count": 3
         }
        },
        {
         "dtype": "int64",
         "name": "_deepnote_index_column"
        }
       ],
       "row_count": 10,
       "rows": [
        {
         "_deepnote_index_column": "2335",
         "alias_list": "nan",
         "category": "Other",
         "description": "",
         "file": "Chuckie_Patel",
         "ga_occurences": "0.05263157894736842",
         "main_universe": "Grey's Anatomy",
         "outlinks_clean": "['Isaac Patel', 'Rina Patel', 'Tina Patel', \"Love the One You're With\", \"Grey's Anatomy|GA\", \"Season 9 (Grey's Anatomy)|9\", 'Luke Ganalon', 'Isaac Patel', 'Mayo Clinic', 'Craig Thomas', 'Cristina Yang', 'Category:Characters', 'Category:GA Characters', 'Category:GA S9 Characters']",
         "pageid": "31512",
         "pp_occurences": "0.0",
         "s19_occurences": "0.0",
         "status": "Alive",
         "title": "Chuckie Patel",
         "universe_encoded": "0"
        },
        {
         "_deepnote_index_column": "89",
         "alias_list": "nan",
         "category": "Patient",
         "description": "nan",
         "file": "Andrea",
         "ga_occurences": "0.0",
         "main_universe": "Private Practice",
         "outlinks_clean": "['Dell Parker', 'Naomi Bennett', 'In Which Addison Finds a Showerhead', 'Private Practice|PP', 'Season 1 (Private Practice)|1', 'Amy Rosoff', 'Category:Characters', 'Category:PP Characters', 'Category:PP S1 Characters', 'Category:Patients', 'Category:Patients (OB/GYN)']",
         "pageid": "49781",
         "pp_occurences": "0.16666666666666666",
         "s19_occurences": "0.0",
         "status": "Alive",
         "title": "Andrea",
         "universe_encoded": "1"
        },
        {
         "_deepnote_index_column": "1949",
         "alias_list": "nan",
         "category": "Patient",
         "description": "nan",
         "file": "Kevin_Mason",
         "ga_occurences": "0.0",
         "main_universe": "Private Practice",
         "outlinks_clean": "['Ryan Mason', 'Take Two', 'Private Practice|PP', 'Season 4 (Private Practice)|4', 'French Stewart', 'Ryan Mason', 'Category:Characters', 'Category:PP Characters', 'Category:PP S4 Characters', 'Category:Patients', 'Category:Patients (Transplant)', 'Category:Patients (Renal)']",
         "pageid": "50802",
         "pp_occurences": "0.16666666666666666",
         "s19_occurences": "0.0",
         "status": "Alive",
         "title": "Kevin Mason",
         "universe_encoded": "1"
        },
        {
         "_deepnote_index_column": "1074",
         "alias_list": "nan",
         "category": "Patient",
         "description": "nan",
         "file": "Alison_Goodman",
         "ga_occurences": "0.05263157894736842",
         "main_universe": "Grey's Anatomy",
         "outlinks_clean": "['April Kepner', 'Miranda Bailey', 'Maggie Pierce', \"True Colors (Grey's Anatomy)|True Colors\", \"Grey's Anatomy|GA\", \"Season 13 (Grey's Anatomy)|13\", 'Bianca Collins', 'Keith', 'Category:Characters', 'Category:GA Characters', 'Category:GA S13 Characters', 'Category:Patients', 'Category:Patients (Cardio)', 'Category:Patients (ER)', 'Category:Patients (Trauma)']",
         "pageid": "60932",
         "pp_occurences": "0.0",
         "s19_occurences": "0.0",
         "status": "Alive",
         "title": "Alison Goodman",
         "universe_encoded": "0"
        },
        {
         "_deepnote_index_column": "798",
         "alias_list": "nan",
         "category": "Other",
         "description": "Rhada Douglas is the mother of Heather Douglas. Rhada came into the hospital with her daughter, who had severe scoliosis due to VATER Syndrome. When the doctors proposed an experimental surgery to correct the spine curvature, Rhada was reluctant because it could cause paralysis if it didn't work, but agreed because Heather wanted the surgery. The surgery was scheduled, but had to be cancelled when the insurance company said they wouldn't pay for it. (\"Six Days, Part 1\") The surgery was reschedul",
         "file": "Rhada_Douglas",
         "ga_occurences": "0.05263157894736842",
         "main_universe": "Grey's Anatomy",
         "outlinks_clean": "['Heather Douglas', 'Six Days, Part 1', 'Six Days, Part 2', \"Grey's Anatomy|GA\", \"Season 3 (Grey's Anatomy)|3\", 'Judith Hoag', 'Heather Douglas', 'Six Days, Part 1', 'Six Days, Part 2', \"Louise O'Malley\", 'Six Days, Part 2', 'Six Days, Part 1', 'Six Days, Part 2', 'de:Rhada Douglas', 'Category:Characters', 'Category:GA Characters', 'Category:GA S3 Characters']",
         "pageid": "48153",
         "pp_occurences": "0.0",
         "s19_occurences": "0.0",
         "status": "Alive",
         "title": "Rhada Douglas",
         "universe_encoded": "0"
        },
        {
         "_deepnote_index_column": "1241",
         "alias_list": "nan",
         "category": "Doctor",
         "description": "Taryn Helm was a surgical resident at Grey Sloan Memorial Hospital until the surgical residency program was shut down. She is roommates with Levi Schmitt. After the shutdown, she got a job as a bartender at Emerald City Bar. She had panic attacks as a child. (\"Shelter from the Storm\") When she was young, she used to pretend her stuffed animals were sick and would bandage them up. (\"Tradition\") Taryn came into Grey Sloan Memorial Hospital for an interview to be considered for an internship. When ",
         "file": "Taryn_Helm",
         "ga_occurences": "0.3157894736842105",
         "main_universe": "Station 19",
         "outlinks_clean": "['General Surgery|Surgical', 'Resident', 'Emerald City Bar', 'Grey Sloan Memorial Hospital', \"Grey's Anatomy|GA\", \"Ain't That a Kick in the Head\", 'Station 19|S19', 'I Know This Bar', 'Station 19|S19', \"When the Party's Over\", \"Grey's Anatomy|GA\", \"Season 14 (Grey's Anatomy)|14\", \"Season 15 (Grey's Anatomy)|15\", \"Season 16 (Grey's Anatomy)|16\", \"Season 17 (Grey's Anatomy)|17\", \"Season 18 (Grey's Anatomy)|18\", \"Season 19 (Grey's Anatomy)|19\", 'Station 19|S19', 'Season 3 (Station 19)|3', 'Season 4 (Station 19)|4', 'Season 5 (Station 19)|5', \"Grey's Anatomy: B-Team\", 'Jaicy Elliot', 'Grey Sloan Memorial Hospital', 'Levi Schmitt', 'Emerald City Bar', 'Shelter from the Storm', 'Tradition', 'Grey Sloan Memorial Hospital', \"Ain't That a Kick in the Head\", 'Catherine Fox Award|Harper Avery Award', 'Come on Down to My Boat, Baby', 'Dean Parson', 'Who Lives, Who Dies, Who Tells Your Story', 'Out of Nowhere', 'Vikram Roy', '1-800-799-7233', 'Paul Stadler', 'Ruby Taylor', 'Personal Jesus', 'Harde…",
         "pageid": "63946",
         "pp_occurences": "0.0",
         "s19_occurences": "0.5",
         "status": "nan",
         "title": "Taryn Helm",
         "universe_encoded": "2"
        },
        {
         "_deepnote_index_column": "1966",
         "alias_list": "nan",
         "category": "Other",
         "description": "",
         "file": "Max_(Too_Darn_Hot)",
         "ga_occurences": "0.0",
         "main_universe": "Station 19",
         "outlinks_clean": "['Too Darn Hot', 'Station 19|S19', 'Season 5 (Station 19)|5', 'Lucas Armendariz', 'Category:Characters', 'Category:S19 Characters', 'Category:S19 S5 Characters', 'Category:S19 Rescuees']",
         "pageid": "83548",
         "pp_occurences": "0.0",
         "s19_occurences": "0.16666666666666666",
         "status": "Alive",
         "title": "Max (Too Darn Hot)",
         "universe_encoded": "2"
        },
        {
         "_deepnote_index_column": "440",
         "alias_list": "nan",
         "category": "Doctor",
         "description": "nan",
         "file": "Paul_Castello",
         "ga_occurences": "0.10526315789473684",
         "main_universe": "Grey's Anatomy",
         "outlinks_clean": "['Attending', 'Trauma Surgery|Trauma Surgeon', 'Dillard Medical Center', 'How to Save a Life', 'My Shot', \"Grey's Anatomy|GA\", \"Season 11 (Grey's Anatomy)|11\", \"Season 16 (Grey's Anatomy)|16\", 'Mike McColl', 'Surgery|surgeon', 'Dillard Medical Center', 'Derek Shepherd', \"Meredith Grey|Meredith Grey's\", 'Penelope Blake|Penny', 'Dr. Cohn', 'How to Save a Life', 'My Shot', 'Penelope Blake', 'Trauma Surgery|trauma surgeon', 'Dillard Medical Center', 'How to Save a Life', 'My Shot', 'de:Paul Castello', 'Category:Characters', 'Category:GA Characters', 'Category:GA S11 Characters', 'Category:GA S16 Characters', 'Category:Deceased Characters', 'Category:Doctors', 'Category:Patients', 'Category:Patients (Neuro)']",
         "pageid": "43394",
         "pp_occurences": "0.0",
         "s19_occurences": "0.0",
         "status": "Deceased",
         "title": "Paul Castello",
         "universe_encoded": "0"
        },
        {
         "_deepnote_index_column": "2751",
         "alias_list": "nan",
         "category": "Patient",
         "description": "nan",
         "file": "Otis_Sharon",
         "ga_occurences": "0.05263157894736842",
         "main_universe": "Grey's Anatomy",
         "outlinks_clean": "['Callie Torres', 'Izzie Stevens', 'Where the Wild Things Are', \"Grey's Anatomy|GA\", \"Season 4 (Grey's Anatomy)|4\", 'Cheech Marin', 'Category:Characters', 'Category:GA Characters', 'Category:GA S4 Characters', 'Category:Patients', 'Category:Patients (Ortho)', 'Category:Patients (ER)']",
         "pageid": "48532",
         "pp_occurences": "0.0",
         "s19_occurences": "0.0",
         "status": "Alive",
         "title": "Otis Sharon",
         "universe_encoded": "0"
        },
        {
         "_deepnote_index_column": "3035",
         "alias_list": "nan",
         "category": "Patient",
         "description": "nan",
         "file": "Nell_Timms",
         "ga_occurences": "0.05263157894736842",
         "main_universe": "Grey's Anatomy",
         "outlinks_clean": "['Richard Webber', 'Jackson Avery', 'Cormac Hayes', \"Sign O' the Times\", \"Grey's Anatomy|GA\", \"Season 17 (Grey's Anatomy)|17\", 'Phylicia Rashad', 'Category:Characters', 'Category:GA Characters', 'Category:GA S17 Characters', 'Category:Patients', 'Category:Patients (ER)', 'Category:Patients (Plastics)', 'Category:Patients (Trauma)']",
         "pageid": "81919",
         "pp_occurences": "0.0",
         "s19_occurences": "0.0",
         "status": "Alive",
         "title": "Nell Timms",
         "universe_encoded": "0"
        }
       ]
      },
      "text/html": [
       "<div>\n",
       "<style scoped>\n",
       "    .dataframe tbody tr th:only-of-type {\n",
       "        vertical-align: middle;\n",
       "    }\n",
       "\n",
       "    .dataframe tbody tr th {\n",
       "        vertical-align: top;\n",
       "    }\n",
       "\n",
       "    .dataframe thead th {\n",
       "        text-align: right;\n",
       "    }\n",
       "</style>\n",
       "<table border=\"1\" class=\"dataframe\">\n",
       "  <thead>\n",
       "    <tr style=\"text-align: right;\">\n",
       "      <th></th>\n",
       "      <th>pageid</th>\n",
       "      <th>title</th>\n",
       "      <th>file</th>\n",
       "      <th>outlinks_clean</th>\n",
       "      <th>ga_occurences</th>\n",
       "      <th>pp_occurences</th>\n",
       "      <th>s19_occurences</th>\n",
       "      <th>main_universe</th>\n",
       "      <th>universe_encoded</th>\n",
       "      <th>category</th>\n",
       "      <th>status</th>\n",
       "      <th>alias_list</th>\n",
       "      <th>description</th>\n",
       "    </tr>\n",
       "  </thead>\n",
       "  <tbody>\n",
       "    <tr>\n",
       "      <th>2335</th>\n",
       "      <td>31512</td>\n",
       "      <td>Chuckie Patel</td>\n",
       "      <td>Chuckie_Patel</td>\n",
       "      <td>[Isaac Patel, Rina Patel, Tina Patel, Love the...</td>\n",
       "      <td>0.052632</td>\n",
       "      <td>0.000000</td>\n",
       "      <td>0.000000</td>\n",
       "      <td>Grey's Anatomy</td>\n",
       "      <td>0</td>\n",
       "      <td>Other</td>\n",
       "      <td>Alive</td>\n",
       "      <td>NaN</td>\n",
       "      <td></td>\n",
       "    </tr>\n",
       "    <tr>\n",
       "      <th>89</th>\n",
       "      <td>49781</td>\n",
       "      <td>Andrea</td>\n",
       "      <td>Andrea</td>\n",
       "      <td>[Dell Parker, Naomi Bennett, In Which Addison ...</td>\n",
       "      <td>0.000000</td>\n",
       "      <td>0.166667</td>\n",
       "      <td>0.000000</td>\n",
       "      <td>Private Practice</td>\n",
       "      <td>1</td>\n",
       "      <td>Patient</td>\n",
       "      <td>Alive</td>\n",
       "      <td>NaN</td>\n",
       "      <td>NaN</td>\n",
       "    </tr>\n",
       "    <tr>\n",
       "      <th>1949</th>\n",
       "      <td>50802</td>\n",
       "      <td>Kevin Mason</td>\n",
       "      <td>Kevin_Mason</td>\n",
       "      <td>[Ryan Mason, Take Two, Private Practice|PP, Se...</td>\n",
       "      <td>0.000000</td>\n",
       "      <td>0.166667</td>\n",
       "      <td>0.000000</td>\n",
       "      <td>Private Practice</td>\n",
       "      <td>1</td>\n",
       "      <td>Patient</td>\n",
       "      <td>Alive</td>\n",
       "      <td>NaN</td>\n",
       "      <td>NaN</td>\n",
       "    </tr>\n",
       "    <tr>\n",
       "      <th>1074</th>\n",
       "      <td>60932</td>\n",
       "      <td>Alison Goodman</td>\n",
       "      <td>Alison_Goodman</td>\n",
       "      <td>[April Kepner, Miranda Bailey, Maggie Pierce, ...</td>\n",
       "      <td>0.052632</td>\n",
       "      <td>0.000000</td>\n",
       "      <td>0.000000</td>\n",
       "      <td>Grey's Anatomy</td>\n",
       "      <td>0</td>\n",
       "      <td>Patient</td>\n",
       "      <td>Alive</td>\n",
       "      <td>NaN</td>\n",
       "      <td>NaN</td>\n",
       "    </tr>\n",
       "    <tr>\n",
       "      <th>798</th>\n",
       "      <td>48153</td>\n",
       "      <td>Rhada Douglas</td>\n",
       "      <td>Rhada_Douglas</td>\n",
       "      <td>[Heather Douglas, Six Days, Part 1, Six Days, ...</td>\n",
       "      <td>0.052632</td>\n",
       "      <td>0.000000</td>\n",
       "      <td>0.000000</td>\n",
       "      <td>Grey's Anatomy</td>\n",
       "      <td>0</td>\n",
       "      <td>Other</td>\n",
       "      <td>Alive</td>\n",
       "      <td>NaN</td>\n",
       "      <td>Rhada Douglas is the mother of Heather Douglas...</td>\n",
       "    </tr>\n",
       "    <tr>\n",
       "      <th>1241</th>\n",
       "      <td>63946</td>\n",
       "      <td>Taryn Helm</td>\n",
       "      <td>Taryn_Helm</td>\n",
       "      <td>[General Surgery|Surgical, Resident, Emerald C...</td>\n",
       "      <td>0.315789</td>\n",
       "      <td>0.000000</td>\n",
       "      <td>0.500000</td>\n",
       "      <td>Station 19</td>\n",
       "      <td>2</td>\n",
       "      <td>Doctor</td>\n",
       "      <td>NaN</td>\n",
       "      <td>NaN</td>\n",
       "      <td>Taryn Helm was a surgical resident at Grey Slo...</td>\n",
       "    </tr>\n",
       "    <tr>\n",
       "      <th>1966</th>\n",
       "      <td>83548</td>\n",
       "      <td>Max (Too Darn Hot)</td>\n",
       "      <td>Max_(Too_Darn_Hot)</td>\n",
       "      <td>[Too Darn Hot, Station 19|S19, Season 5 (Stati...</td>\n",
       "      <td>0.000000</td>\n",
       "      <td>0.000000</td>\n",
       "      <td>0.166667</td>\n",
       "      <td>Station 19</td>\n",
       "      <td>2</td>\n",
       "      <td>Other</td>\n",
       "      <td>Alive</td>\n",
       "      <td>NaN</td>\n",
       "      <td></td>\n",
       "    </tr>\n",
       "    <tr>\n",
       "      <th>440</th>\n",
       "      <td>43394</td>\n",
       "      <td>Paul Castello</td>\n",
       "      <td>Paul_Castello</td>\n",
       "      <td>[Attending, Trauma Surgery|Trauma Surgeon, Dil...</td>\n",
       "      <td>0.105263</td>\n",
       "      <td>0.000000</td>\n",
       "      <td>0.000000</td>\n",
       "      <td>Grey's Anatomy</td>\n",
       "      <td>0</td>\n",
       "      <td>Doctor</td>\n",
       "      <td>Deceased</td>\n",
       "      <td>NaN</td>\n",
       "      <td>NaN</td>\n",
       "    </tr>\n",
       "    <tr>\n",
       "      <th>2751</th>\n",
       "      <td>48532</td>\n",
       "      <td>Otis Sharon</td>\n",
       "      <td>Otis_Sharon</td>\n",
       "      <td>[Callie Torres, Izzie Stevens, Where the Wild ...</td>\n",
       "      <td>0.052632</td>\n",
       "      <td>0.000000</td>\n",
       "      <td>0.000000</td>\n",
       "      <td>Grey's Anatomy</td>\n",
       "      <td>0</td>\n",
       "      <td>Patient</td>\n",
       "      <td>Alive</td>\n",
       "      <td>NaN</td>\n",
       "      <td>NaN</td>\n",
       "    </tr>\n",
       "    <tr>\n",
       "      <th>3035</th>\n",
       "      <td>81919</td>\n",
       "      <td>Nell Timms</td>\n",
       "      <td>Nell_Timms</td>\n",
       "      <td>[Richard Webber, Jackson Avery, Cormac Hayes, ...</td>\n",
       "      <td>0.052632</td>\n",
       "      <td>0.000000</td>\n",
       "      <td>0.000000</td>\n",
       "      <td>Grey's Anatomy</td>\n",
       "      <td>0</td>\n",
       "      <td>Patient</td>\n",
       "      <td>Alive</td>\n",
       "      <td>NaN</td>\n",
       "      <td>NaN</td>\n",
       "    </tr>\n",
       "  </tbody>\n",
       "</table>\n",
       "</div>"
      ],
      "text/plain": [
       "      pageid               title                file  \\\n",
       "2335   31512       Chuckie Patel       Chuckie_Patel   \n",
       "89     49781              Andrea              Andrea   \n",
       "1949   50802         Kevin Mason         Kevin_Mason   \n",
       "1074   60932      Alison Goodman      Alison_Goodman   \n",
       "798    48153       Rhada Douglas       Rhada_Douglas   \n",
       "1241   63946          Taryn Helm          Taryn_Helm   \n",
       "1966   83548  Max (Too Darn Hot)  Max_(Too_Darn_Hot)   \n",
       "440    43394       Paul Castello       Paul_Castello   \n",
       "2751   48532         Otis Sharon         Otis_Sharon   \n",
       "3035   81919          Nell Timms          Nell_Timms   \n",
       "\n",
       "                                         outlinks_clean  ga_occurences  \\\n",
       "2335  [Isaac Patel, Rina Patel, Tina Patel, Love the...       0.052632   \n",
       "89    [Dell Parker, Naomi Bennett, In Which Addison ...       0.000000   \n",
       "1949  [Ryan Mason, Take Two, Private Practice|PP, Se...       0.000000   \n",
       "1074  [April Kepner, Miranda Bailey, Maggie Pierce, ...       0.052632   \n",
       "798   [Heather Douglas, Six Days, Part 1, Six Days, ...       0.052632   \n",
       "1241  [General Surgery|Surgical, Resident, Emerald C...       0.315789   \n",
       "1966  [Too Darn Hot, Station 19|S19, Season 5 (Stati...       0.000000   \n",
       "440   [Attending, Trauma Surgery|Trauma Surgeon, Dil...       0.105263   \n",
       "2751  [Callie Torres, Izzie Stevens, Where the Wild ...       0.052632   \n",
       "3035  [Richard Webber, Jackson Avery, Cormac Hayes, ...       0.052632   \n",
       "\n",
       "      pp_occurences  s19_occurences     main_universe  universe_encoded  \\\n",
       "2335       0.000000        0.000000    Grey's Anatomy                 0   \n",
       "89         0.166667        0.000000  Private Practice                 1   \n",
       "1949       0.166667        0.000000  Private Practice                 1   \n",
       "1074       0.000000        0.000000    Grey's Anatomy                 0   \n",
       "798        0.000000        0.000000    Grey's Anatomy                 0   \n",
       "1241       0.000000        0.500000        Station 19                 2   \n",
       "1966       0.000000        0.166667        Station 19                 2   \n",
       "440        0.000000        0.000000    Grey's Anatomy                 0   \n",
       "2751       0.000000        0.000000    Grey's Anatomy                 0   \n",
       "3035       0.000000        0.000000    Grey's Anatomy                 0   \n",
       "\n",
       "     category    status alias_list  \\\n",
       "2335    Other     Alive        NaN   \n",
       "89    Patient     Alive        NaN   \n",
       "1949  Patient     Alive        NaN   \n",
       "1074  Patient     Alive        NaN   \n",
       "798     Other     Alive        NaN   \n",
       "1241   Doctor       NaN        NaN   \n",
       "1966    Other     Alive        NaN   \n",
       "440    Doctor  Deceased        NaN   \n",
       "2751  Patient     Alive        NaN   \n",
       "3035  Patient     Alive        NaN   \n",
       "\n",
       "                                            description  \n",
       "2335                                                     \n",
       "89                                                  NaN  \n",
       "1949                                                NaN  \n",
       "1074                                                NaN  \n",
       "798   Rhada Douglas is the mother of Heather Douglas...  \n",
       "1241  Taryn Helm was a surgical resident at Grey Slo...  \n",
       "1966                                                     \n",
       "440                                                 NaN  \n",
       "2751                                                NaN  \n",
       "3035                                                NaN  "
      ]
     },
     "execution_count": 22,
     "metadata": {},
     "output_type": "execute_result"
    }
   ],
   "source": [
    "# to get an overview of the scraped and cleaned dara\n",
    "df.sample(10)"
   ]
  },
  {
   "cell_type": "code",
   "execution_count": 23,
   "metadata": {
    "cell_id": "0b8e7f40593f4e5f825e7477a85ce2e8",
    "deepnote_app_coordinates": {
     "h": 5,
     "w": 12,
     "x": 0,
     "y": 151
    },
    "deepnote_cell_type": "code",
    "deepnote_to_be_reexecuted": false,
    "execution_millis": 2,
    "execution_start": 1670928404105,
    "source_hash": "d178caa1",
    "tags": []
   },
   "outputs": [],
   "source": [
    "#define helper functions to get a characters history and clean it \n",
    "\n",
    "def clean_text(text):\n",
    "    text = re.sub(r\"\\[\\[(?:[^\\]\\]|:]+?)\\|([^(\\|)]+?)\\]\\]\", r\"\\1\", text)\n",
    "    text = re.sub(r\"\\[\\[([^(\\|)]+?)\\]\\]\", r\"\\1\", text)\n",
    "    text = re.sub(r\"\\[\\[(?:Image|File).+?\\|([^\\|]+?)\\]\\]\", r\"\", text)\n",
    "    text = re.sub(r\"==.+?==\", r\"\", text)\n",
    "    text = re.sub(r\"<ref>.*?<\\/ref>\", r\"\", text)\n",
    "    return text.replace(\"\\n\",\" \").replace(\"*\",\"\").replace(\"=\",\"\")\n",
    "\n",
    "def get_character_history(title):\n",
    "    character_params = {\n",
    "        \"format\": \"json\",\n",
    "        \"page\": title,\n",
    "        \"action\": \"parse\",\n",
    "        \"prop\": \"wikitext\",\n",
    "        \"section\": 1,\n",
    "        \"disabletoc\": 1\n",
    "    }\n",
    "    request = session.get(url=url, params=character_params)\n",
    "    if 'parse' in request.json().keys():\n",
    "        return clean_text(request.json()['parse']['wikitext']['*'])\n",
    "    else:\n",
    "        return \"\""
   ]
  },
  {
   "cell_type": "code",
   "execution_count": 24,
   "metadata": {
    "cell_id": "e2acb1bd42764423945c22ce800df4bf",
    "deepnote_app_coordinates": {
     "h": 5,
     "w": 12,
     "x": 0,
     "y": 157
    },
    "deepnote_cell_type": "code",
    "deepnote_to_be_reexecuted": false,
    "execution_millis": 766235,
    "execution_start": 1670928404110,
    "source_hash": "b3101bf2",
    "tags": []
   },
   "outputs": [],
   "source": [
    "# get character history\n",
    "character_history = {}\n",
    "for index, row in df.iterrows():\n",
    "    title = row['file']\n",
    "    character_history[title] = get_character_history(title)\n",
    "    df.at[index, 'history'] = get_character_history(title)\n",
    "\n",
    "# save history in the character dataframe but also a separate json for easier processing \n",
    "with open('data/characters_history.json', 'w', encoding='utf-8') as file:\n",
    "    json.dump(character_history, file, ensure_ascii=False, indent=4)"
   ]
  },
  {
   "cell_type": "code",
   "execution_count": 25,
   "metadata": {
    "cell_id": "72d786d88bd14ec4a83cadbd0f5306b3",
    "deepnote_app_coordinates": {
     "h": 5,
     "w": 12,
     "x": 0,
     "y": 0
    },
    "deepnote_cell_type": "code",
    "deepnote_to_be_reexecuted": false,
    "execution_millis": 204,
    "execution_start": 1670929170347,
    "source_hash": "59e5ecf9",
    "tags": []
   },
   "outputs": [],
   "source": [
    "# save the data to a characters file\n",
    "df.to_csv(\"data/\"+\"characters.csv\")"
   ]
  },
  {
   "cell_type": "markdown",
   "metadata": {
    "cell_id": "df6c2a6427fa4fdfb92dacabea2ee530",
    "deepnote_app_coordinates": {
     "h": 5,
     "w": 12,
     "x": 0,
     "y": 0
    },
    "deepnote_cell_type": "text-cell-h3",
    "formattedRanges": [],
    "is_collapsed": false,
    "tags": []
   },
   "source": [
    "### 1.3 Scrape the episode and season summaries"
   ]
  },
  {
   "cell_type": "markdown",
   "metadata": {
    "cell_id": "3f49732e-fdef-4448-ad68-5a599e35ecec",
    "deepnote_app_coordinates": {
     "h": 5,
     "w": 12,
     "x": 0,
     "y": 0
    },
    "deepnote_cell_type": "text-cell-p",
    "formattedRanges": [],
    "is_collapsed": false,
    "tags": []
   },
   "source": [
    "The last step of the data scraping is gettting the episode and season data from Fandom."
   ]
  },
  {
   "cell_type": "code",
   "execution_count": 26,
   "metadata": {
    "cell_id": "f11a83b1f5f94f8dade453f46bf0f0da",
    "deepnote_app_coordinates": {
     "h": 5,
     "w": 12,
     "x": 0,
     "y": 166
    },
    "deepnote_cell_type": "code",
    "deepnote_to_be_reexecuted": false,
    "execution_millis": 11,
    "execution_start": 1670929170565,
    "source_hash": "231f57fc",
    "tags": []
   },
   "outputs": [],
   "source": [
    "# create a dictionary of the shows \n",
    "shows_dict = {\n",
    "    'GA': {'seasons': 19, 'name': \"Grey's Anatomy\"},\n",
    "    'S19': {'seasons': 6, 'name': 'Station 19'},\n",
    "    'PP': {'seasons': 6, 'name': 'Private Practice'}\n",
    "}\n",
    "\n",
    "# function the get the season data so the summary and plots for each show and season\n",
    "def get_season_data(show, season):\n",
    "    season_params = {\n",
    "        \"format\": \"json\",\n",
    "        \"page\": \"Season {} ({})\".format(season, shows_dict[show]['name']),\n",
    "        \"action\": \"parse\",\n",
    "        \"prop\": \"wikitext\",\n",
    "        \"section\": 1,\n",
    "        \"disabletoc\": 1\n",
    "    }\n",
    "    \n",
    "    episodes_params = {\n",
    "    \"format\": \"json\",\n",
    "    \"list\": \"categorymembers\",\n",
    "    \"action\": \"query\",\n",
    "    \"cmtitle\": \"Category:{} S{} Episodes\".format(show, season),\n",
    "    \"cmlimit\": 50\n",
    "    }\n",
    "    \n",
    "    season_data = {\"nr\": season, \"show\": show}\n",
    "    request = session.get(url=url, params=season_params)\n",
    "    summary = request.json()['parse']['wikitext']['*']\n",
    "    season_params['section'] = 2\n",
    "    request = session.get(url=url, params=season_params)\n",
    "    plots = request.json()['parse']['wikitext']['*']\n",
    "    season_data['summary_and_plots'] = clean_text(summary + plots)\n",
    "    \n",
    "    request = session.get(url=url, params=episodes_params)\n",
    "    episodes = request.json()['query']['categorymembers']\n",
    "    for episode in episodes:\n",
    "        episode['summary'] = clean_text(get_episode_summary(episode['title']))\n",
    "        episode['nr'] = get_episode_number(episode['title'])\n",
    "        del episode['ns']\n",
    "        del episode['pageid']\n",
    "    season_data['episodes'] = sorted(episodes, key=lambda d: d['nr'])\n",
    "    return season_data\n",
    "\n",
    "# function the get the detailed episode summaries \n",
    "def get_episode_summary(title):\n",
    "    episode_params = {\n",
    "        \"format\": \"json\",\n",
    "        \"prop\": \"wikitext\",\n",
    "        \"action\": \"parse\",\n",
    "        \"page\": title,\n",
    "        \"section\": 2,\n",
    "        \"disabletoc\": 1\n",
    "    }\n",
    "    request = session.get(url=url, params=episode_params)\n",
    "    if \"Episode in detail.\" in request.json()['parse']['wikitext']['*'] or request.json()['parse']['wikitext']['*'] == \"==Full Summary==\":\n",
    "        episode_params['section'] = 1\n",
    "        request = session.get(url=url, params=episode_params)\n",
    "    return clean_text(request.json()['parse']['wikitext']['*'])\n",
    "\n",
    "def get_episode_number(title):\n",
    "    episode_params = {\n",
    "        \"format\": \"json\",\n",
    "        \"prop\": \"wikitext\",\n",
    "        \"action\": \"parse\",\n",
    "        \"page\": title,\n",
    "        \"section\": 0,\n",
    "        \"disabletoc\": 1\n",
    "    }\n",
    "    request = session.get(url=url, params=episode_params)\n",
    "    return int(re.search(r\"episode\\s*=\\s*(\\d+)\", request.json()['parse']['wikitext']['*']).group(1))"
   ]
  },
  {
   "cell_type": "code",
   "execution_count": 27,
   "metadata": {
    "cell_id": "f3d169fca2884c14a7105c43caa5b519",
    "deepnote_app_coordinates": {
     "h": 5,
     "w": 12,
     "x": 0,
     "y": 172
    },
    "deepnote_cell_type": "code",
    "deepnote_to_be_reexecuted": false,
    "execution_millis": 174329,
    "execution_start": 1670929170576,
    "source_hash": "35f706dc",
    "tags": []
   },
   "outputs": [],
   "source": [
    "# function to get all data and apply it to all three shows\n",
    "def get_all_data(show):\n",
    "    seasons = []\n",
    "    for i in range(shows_dict[show]['seasons']):\n",
    "        seasons.append(get_season_data(show, i+1))\n",
    "    return seasons\n",
    "\n",
    "seasons_data = get_all_data('GA')\n",
    "seasons_data.extend(get_all_data('PP'))\n",
    "seasons_data.extend(get_all_data('S19'))"
   ]
  },
  {
   "cell_type": "code",
   "execution_count": 28,
   "metadata": {
    "cell_id": "5b0dc00c1cdd4eb6832d820cb4c8057a",
    "deepnote_app_coordinates": {
     "h": 5,
     "w": 12,
     "x": 0,
     "y": 178
    },
    "deepnote_cell_type": "code",
    "deepnote_to_be_reexecuted": false,
    "execution_millis": 184,
    "execution_start": 1670929344904,
    "source_hash": "11cdd3e6",
    "tags": []
   },
   "outputs": [],
   "source": [
    "# save the data in a json \n",
    "with open('data/episodes.json', 'w', encoding='utf-8') as file:\n",
    "    json.dump(seasons_data, file, ensure_ascii=False, indent=4)"
   ]
  },
  {
   "cell_type": "markdown",
   "metadata": {
    "cell_id": "a4e092ba32d84d8da0531476c7ac7cf6",
    "deepnote_app_coordinates": {
     "h": 5,
     "w": 12,
     "x": 0,
     "y": 0
    },
    "deepnote_cell_type": "text-cell-h2",
    "formattedRanges": [],
    "is_collapsed": false,
    "tags": []
   },
   "source": [
    "## Main result of the data collection"
   ]
  },
  {
   "cell_type": "markdown",
   "metadata": {
    "cell_id": "4acca06dec9d4be28e9bb6b2c51a4c88",
    "deepnote_app_coordinates": {
     "h": 5,
     "w": 12,
     "x": 0,
     "y": 0
    },
    "deepnote_cell_type": "markdown",
    "tags": []
   },
   "source": [
    "The result of the data collection is that we have \n",
    "* a clean dataframe with the Grey's Anatomy characters with their main information such as main universe, links to other characters or description\n",
    "* a clean json with the summaries of all seasons and detailed descriptions of the episodes\n",
    "* a clean json with the characters' history and development"
   ]
  },
  {
   "cell_type": "markdown",
   "metadata": {
    "created_in_deepnote_cell": true,
    "deepnote_cell_type": "markdown",
    "tags": []
   },
   "source": [
    "<a style='text-decoration:none;line-height:16px;display:flex;color:#5B5B62;padding:10px;justify-content:end;' href='https://deepnote.com?utm_source=created-in-deepnote-cell&projectId=6c50234c-0fc5-40eb-b0ef-2d1cda57d893' target=\"_blank\">\n",
    "<img alt='Created in deepnote.com' style='display:inline;max-height:16px;margin:0px;margin-right:7.5px;' src='data:image/svg+xml;base64,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' > </img>\n",
    "Created in <span style='font-weight:600;margin-left:4px;'>Deepnote</span></a>"
   ]
  }
 ],
 "metadata": {
  "deepnote": {},
  "deepnote_app_layout": "article",
  "deepnote_execution_queue": [],
  "deepnote_notebook_id": "b2481757b134423f94eca0959fecb952",
  "deepnote_persisted_session": {
   "createdAt": "2022-12-05T19:45:23.382Z"
  },
  "kernelspec": {
   "display_name": "Python 3 (ipykernel)",
   "language": "python",
   "name": "python3"
  },
  "language_info": {
   "codemirror_mode": {
    "name": "ipython",
    "version": 3
   },
   "file_extension": ".py",
   "mimetype": "text/x-python",
   "name": "python",
   "nbconvert_exporter": "python",
   "pygments_lexer": "ipython3",
   "version": "3.9.7"
  },
  "toc": {
   "base_numbering": 1,
   "nav_menu": {},
   "number_sections": true,
   "sideBar": true,
   "skip_h1_title": false,
   "title_cell": "Table of Contents",
   "title_sidebar": "Contents",
   "toc_cell": false,
   "toc_position": {},
   "toc_section_display": true,
   "toc_window_display": false
  }
 },
 "nbformat": 4,
 "nbformat_minor": 1
}
